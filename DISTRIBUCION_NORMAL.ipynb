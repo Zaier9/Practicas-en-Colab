{
  "nbformat": 4,
  "nbformat_minor": 0,
  "metadata": {
    "colab": {
      "name": "DISTRIBUCION NORMAL.ipynb",
      "provenance": [],
      "authorship_tag": "ABX9TyN1OsD+o9XJG0xZTQbijuQt",
      "include_colab_link": true
    },
    "kernelspec": {
      "name": "python3",
      "display_name": "Python 3"
    },
    "language_info": {
      "name": "python"
    }
  },
  "cells": [
    {
      "cell_type": "markdown",
      "metadata": {
        "id": "view-in-github",
        "colab_type": "text"
      },
      "source": [
        "<a href=\"https://colab.research.google.com/github/Zaier9/Practicas-en-Colab/blob/main/DISTRIBUCION_NORMAL.ipynb\" target=\"_parent\"><img src=\"https://colab.research.google.com/assets/colab-badge.svg\" alt=\"Open In Colab\"/></a>"
      ]
    },
    {
      "cell_type": "markdown",
      "metadata": {
        "id": "YbQ11AIC9s8V"
      },
      "source": [
        "**SIMULACIONES DE MONTECARLO**\n",
        "\n",
        "Es un método estadístico, es utilizado para resolver problemas matemáticos complejos a través de la generación de variables aleatorias.\n",
        "La clave de éste método está en entender el término simulación que consiste en repetir o duplicar las características y comportamientos de un sistema real. Así pues, el objetivo principal de la simulación de Montecarlo es intentar imitar el comportameinto de variables reales para, en la medida de lo posible, analizar o predecir cómo van a evolucionar.\n",
        "\n",
        "\n",
        "PARA QUE SE UTILIZA LA SIMULACION DE MONTECARLO?\n",
        "\n",
        "Lo importante es saber para qué se utiliza este método. Es decir, casos concretos para entender la importancia del método.\n",
        "\n",
        "En economía, la simulación de Montecarlo se utiliza tanto en empresas como en inversión. Siendo en el mundo de la inversión donde más se utiliza:\n",
        "\n",
        "\n",
        "\n",
        "*   Crear, valorar y analizar carteras de inversión.\n",
        "\n",
        "*   Valorar productos financieros complejos como las opciones financieras.\n",
        "*   Creación de modelos de gestión de riesgo.\n"
      ]
    },
    {
      "cell_type": "markdown",
      "metadata": {
        "id": "Fv9Xw5l9Grgw"
      },
      "source": [
        "**SIMULACION DE BARAJAS**"
      ]
    },
    {
      "cell_type": "code",
      "metadata": {
        "colab": {
          "base_uri": "https://localhost:8080/"
        },
        "id": "uPJclwhcyEX0",
        "outputId": "5e331722-2623-460a-de4b-fd4c95bad911"
      },
      "source": [
        "import random\n",
        "import collections\n",
        "\n",
        "PALOS = ['espada', 'corazon', 'rombo', 'trebol']\n",
        "VALORES = ['as', '2', '3', '4', '5', '6', '7', '8', '9', '10', 'jota', 'reina', 'rey' ]\n",
        "\n",
        "def crear_baraja():\n",
        "    barajas = []\n",
        "    for palo in PALOS:\n",
        "        for valor in VALORES:\n",
        "            barajas.append((palo, valor))\n",
        "\n",
        "    return barajas\n",
        "\n",
        "def obtener_mano(barajas, tamano_mano):\n",
        "    mano = random.sample(barajas, tamano_mano)\n",
        "\n",
        "    return mano\n",
        "\n",
        "def main(tamano_mano, intentos):\n",
        "    barajas = crear_baraja()\n",
        "\n",
        "    manos = []\n",
        "    for _ in range(intentos):\n",
        "        mano = obtener_mano(barajas, tamano_mano)\n",
        "        manos.append(mano)\n",
        "\n",
        "    pares = 0\n",
        "    for mano in manos:\n",
        "        valores = []\n",
        "        for carta in mano:\n",
        "            valores.append(carta[1])\n",
        "\n",
        "        counter = dict(collections.Counter(valores))\n",
        "        for val in counter.values():\n",
        "            if val == 2:\n",
        "                pares += 1\n",
        "                break\n",
        "\n",
        "    probabilidad_par = pares / intentos\n",
        "    print(f'La probabilidad de obtener un par en una mano de {tamano_mano} barajas es {probabilidad_par}')\n",
        "\n",
        "\n",
        "\n",
        "if __name__ == '__main__':\n",
        "    tamano_mano = int(input('De cuantas barajas será la mano: '))\n",
        "    intentos = int(input('Cuantos intentos para calcular la probabilidad: '))\n",
        "\n",
        "    main(tamano_mano, intentos)"
      ],
      "execution_count": 10,
      "outputs": [
        {
          "output_type": "stream",
          "text": [
            "De cuantas barajas será la mano: 5\n",
            "Cuantos intentos para calcular la probabilidad: 1000\n",
            "La probabilidad de obtener un par en una mano de 5 barajas es 0.462\n"
          ],
          "name": "stdout"
        }
      ]
    },
    {
      "cell_type": "code",
      "metadata": {
        "colab": {
          "base_uri": "https://localhost:8080/"
        },
        "id": "oc9PyqOCIEoC",
        "outputId": "e766b639-9d7d-4e8b-c890-d7d50f77c419"
      },
      "source": [
        "import random\n",
        "import collections\n",
        "\n",
        "PALOS = ['espada', 'corazon', 'rombo', 'trebol']\n",
        "VALORES = ['as', '2', '3', '4', '5', '6', '7', '8', '9', '10', 'jota', 'reina', 'rey' ]\n",
        "\n",
        "def crear_baraja():\n",
        "    barajas = []\n",
        "    for palo in PALOS:\n",
        "        for valor in VALORES:\n",
        "            barajas.append((palo, valor))\n",
        "\n",
        "    return barajas\n",
        "\n",
        "def obtener_mano(barajas, tamano_mano):\n",
        "    mano = random.sample(barajas, tamano_mano)\n",
        "\n",
        "    return mano\n",
        "\n",
        "def main(tamano_mano, intentos):\n",
        "    barajas = crear_baraja()\n",
        "\n",
        "    manos = []\n",
        "    for _ in range(intentos):\n",
        "        mano = obtener_mano(barajas, tamano_mano)\n",
        "        manos.append(mano)\n",
        "\n",
        "    pares = 0\n",
        "    for mano in manos:\n",
        "        valores = []\n",
        "        for carta in mano:\n",
        "            valores.append(carta[1])\n",
        "\n",
        "        counter = dict(collections.Counter(valores))\n",
        "        for val in counter.values():\n",
        "            if val == 3:\n",
        "                pares += 1\n",
        "                break\n",
        "\n",
        "    probabilidad_par = pares / intentos\n",
        "    print(f'La probabilidad de obtener un par en una mano de {tamano_mano} barajas es {probabilidad_par}')\n",
        "\n",
        "\n",
        "\n",
        "if __name__ == '__main__':\n",
        "    tamano_mano = int(input('De cuantas barajas será la mano: '))\n",
        "    intentos = int(input('Cuantos intentos para calcular la probabilidad: '))\n",
        "\n",
        "    main(tamano_mano, intentos)"
      ],
      "execution_count": 9,
      "outputs": [
        {
          "output_type": "stream",
          "text": [
            "De cuantas barajas será la mano: 5\n",
            "Cuantos intentos para calcular la probabilidad: 1000\n",
            "La probabilidad de obtener un par en una mano de 5 barajas es 0.016\n"
          ],
          "name": "stdout"
        }
      ]
    },
    {
      "cell_type": "code",
      "metadata": {
        "id": "2WZSCXygNJB7"
      },
      "source": [
        ""
      ],
      "execution_count": null,
      "outputs": []
    }
  ]
}