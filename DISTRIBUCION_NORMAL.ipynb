{
  "nbformat": 4,
  "nbformat_minor": 0,
  "metadata": {
    "colab": {
      "name": "DISTRIBUCION NORMAL.ipynb",
      "provenance": [],
      "authorship_tag": "ABX9TyM7gCng0P0OCqLTBGMCayzd",
      "include_colab_link": true
    },
    "kernelspec": {
      "name": "python3",
      "display_name": "Python 3"
    },
    "language_info": {
      "name": "python"
    }
  },
  "cells": [
    {
      "cell_type": "markdown",
      "metadata": {
        "id": "view-in-github",
        "colab_type": "text"
      },
      "source": [
        "<a href=\"https://colab.research.google.com/github/Zaier9/Practicas-en-Colab/blob/main/DISTRIBUCION_NORMAL.ipynb\" target=\"_parent\"><img src=\"https://colab.research.google.com/assets/colab-badge.svg\" alt=\"Open In Colab\"/></a>"
      ]
    },
    {
      "cell_type": "markdown",
      "metadata": {
        "id": "SAzIV2HExf4j"
      },
      "source": [
        "**DISTRIBUCION NORMAL**\n",
        "\n",
        "  Es un modelo teórico capaz de aproximar satisfactoriamente el valor de una variable aleatoria a una situción ideal.\n",
        "  En otras palabras, la distribución normal adapta una variable aleatoria a una función que depende de la media y la desviación típica. Es decir, la función y la variable aleatoria tendrán la misma representación pero con ligeras diferencias.\n",
        "\n",
        "\n",
        "**PROPIEDADES**\n",
        "\n",
        "Es una distribución simétrica. El valor de la **media**, la **mediana** y la **moda** coinciden. Matemáticamente.\n",
        "\n",
        "Distrubución unimodal. Los valores que son más frecuentes que tienen más probabilidad de aparecer están alrededor de la media. En otras palabras, cuando nos alejamos de la media, la probabilidad de aparición de los valores y su frecuencia coinciden."
      ]
    },
    {
      "cell_type": "markdown",
      "metadata": {
        "id": "C7eej-H-zcl8"
      },
      "source": [
        "**REGLA EMPIRICA**\n",
        "\n",
        "\n",
        "\n",
        "*   También conocida como la regla 68-95-99.7\n",
        "\n",
        "*   Señala cuál es la dispersión de los datos en una distribución normal a uno, dos y tres sigmas.\n",
        "*   Permite calcular probabilidades con la densidad de la distribución normal.\n",
        "\n",
        "La distribución normal de los datos se relaciona comúnmente con la regla 68-95-99.7. Se puede encontrar el 68% de los datos en la primera desviación estándar, el 95% de los datos en la segunda desviación, y el 99.7% de los datos en la tercera desviación de la media.\n",
        "\n",
        "**FUNCION DE DENSIDAD DE PROBABILIDAD**\n",
        "\n",
        "Para averiguar el porcentaje, deberías saber lo que significa la función de densidad de probabilidad o PDF, con ésto puedes especificar la probabilidad de la variable aleatoria que cae en un rango específico de valores en lugar de tomar cualquier valor diferente. Puedes calcular la probabilidad sacando la integral de la PDF de la variable en el rango. Esto significa que el área está en la función de densidad pero entre los valores más altos y bajos y sobre el eje horizontal del rango.\n",
        "\n",
        "  En la primera desviación, hay un 68% de los datos. Así que si quieres encontrar la probabilidad de aterrizaje del punto de datos aleatorios en la primera desviación, necesitas calcular la media de los datos de -1 a 1 DE.\n",
        "\n",
        "  En la segunda DE, hay un 95% de los datos. Así que si necesitas encontrar la probabilidad de aterrizaje del punto de datos aleatorios em la segunda DE, necesitas calcular la media de los datos de -2 a 2 desviaciones estándar.\n",
        "\n",
        "  La tercera desviación estándar tiene el 99,7% de los datos. Así que si quieres encontrar la probabilidad de aterrizaje del punto de datos aleatorios en la tercera desviación estándar, necesitas calcular la media de los datos de -3 a 3 desviaciones estándar."
      ]
    },
    {
      "cell_type": "code",
      "metadata": {
        "id": "uPJclwhcyEX0"
      },
      "source": [
        ""
      ],
      "execution_count": null,
      "outputs": []
    }
  ]
}