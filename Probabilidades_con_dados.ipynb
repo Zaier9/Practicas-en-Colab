{
  "nbformat": 4,
  "nbformat_minor": 0,
  "metadata": {
    "colab": {
      "name": "Probabilidades con dados.ipynb",
      "provenance": [],
      "authorship_tag": "ABX9TyO0HsNj+603qekrc5VGnF/G",
      "include_colab_link": true
    },
    "kernelspec": {
      "name": "python3",
      "display_name": "Python 3"
    },
    "language_info": {
      "name": "python"
    }
  },
  "cells": [
    {
      "cell_type": "markdown",
      "metadata": {
        "id": "view-in-github",
        "colab_type": "text"
      },
      "source": [
        "<a href=\"https://colab.research.google.com/github/Zaier9/Practicas-en-Colab/blob/main/Probabilidades_con_dados.ipynb\" target=\"_parent\"><img src=\"https://colab.research.google.com/assets/colab-badge.svg\" alt=\"Open In Colab\"/></a>"
      ]
    },
    {
      "cell_type": "code",
      "metadata": {
        "id": "WqAyzcQnOoQW"
      },
      "source": [
        "import random"
      ],
      "execution_count": 2,
      "outputs": []
    },
    {
      "cell_type": "code",
      "metadata": {
        "colab": {
          "base_uri": "https://localhost:8080/"
        },
        "id": "ejkE_nmCO0Fr",
        "outputId": "eb00b2c1-c880-4135-d0ca-c5b47b14cbf1"
      },
      "source": [
        "\n",
        "def tirar_dado(numero_de_tiros):\n",
        "  secuencia_de_tiros = []\n",
        "  for _ in range(numero_de_tiros):\n",
        "      tiro = random.choice([1,2,3,4,5,6])\n",
        "      secuencia_de_tiros.append(tiro)\n",
        "\n",
        "  return secuencia_de_tiros\n",
        "\n",
        "\n",
        "def main(numero_de_tiros, numero_de_intentos):\n",
        "    tiros = []\n",
        "    for _ in range(numero_de_intentos):\n",
        "        secuencia_de_tiros = tirar_dado(numero_de_tiros)\n",
        "        tiros.append(secuencia_de_tiros)\n",
        "\n",
        "    tiros_con_1 = 0\n",
        "    for tiro in tiros:\n",
        "        if 1 not in tiro:\n",
        "            tiros_con_1 += 1\n",
        "\n",
        "    probabilidad_tiros_con_1 = tiros_con_1 / numero_de_intentos\n",
        "    print(f'Probabilidad de no obtener por lo menos un uno en {numero_de_tiros} tiros = {probabilidad_tiros_con_1}')\n",
        "\n",
        "if __name__ == '__main__':\n",
        "    numero_de_tiros = int(input('Cuantos tiros del dado: '))\n",
        "    numero_de_intentos = int(input('Cuantas veces correrá la simulación: '))\n",
        "\n",
        "    main(numero_de_tiros, numero_de_intentos)"
      ],
      "execution_count": 10,
      "outputs": [
        {
          "output_type": "stream",
          "text": [
            "Cuantos tiros del dado: 10\n",
            "Cuantas veces correrá la simulación: 10000\n",
            "Probabilidad de no obtener por lo menos un uno en 10 tiros = 0.167\n"
          ],
          "name": "stdout"
        }
      ]
    },
    {
      "cell_type": "code",
      "metadata": {
        "id": "oRVU-iWTSqEY"
      },
      "source": [
        ""
      ],
      "execution_count": null,
      "outputs": []
    }
  ]
}