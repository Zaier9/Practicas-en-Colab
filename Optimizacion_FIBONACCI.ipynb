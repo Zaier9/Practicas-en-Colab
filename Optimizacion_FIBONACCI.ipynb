{
  "nbformat": 4,
  "nbformat_minor": 0,
  "metadata": {
    "colab": {
      "name": "Optimizacion FIBONACCI.ipynb",
      "provenance": [],
      "authorship_tag": "ABX9TyNIa74WXd+YqQaxL7ofnsY3",
      "include_colab_link": true
    },
    "kernelspec": {
      "name": "python3",
      "display_name": "Python 3"
    },
    "language_info": {
      "name": "python"
    }
  },
  "cells": [
    {
      "cell_type": "markdown",
      "metadata": {
        "id": "view-in-github",
        "colab_type": "text"
      },
      "source": [
        "<a href=\"https://colab.research.google.com/github/Zaier9/Practicas-en-Colab/blob/main/Optimizacion_FIBONACCI.ipynb\" target=\"_parent\"><img src=\"https://colab.research.google.com/assets/colab-badge.svg\" alt=\"Open In Colab\"/></a>"
      ]
    },
    {
      "cell_type": "code",
      "metadata": {
        "colab": {
          "base_uri": "https://localhost:8080/"
        },
        "id": "laPSh9t6iQZz",
        "outputId": "189f5e30-b9e5-488e-8fc2-dd78731c4c0e"
      },
      "source": [
        "import sys\n",
        "\n",
        "def fibonacci_recursivo(n):\n",
        "    if n == 0 or n == 1:\n",
        "        return 1\n",
        "\n",
        "    return fibonacci_recursivo(n - 1) + fibonacci_recursivo(n - 2)\n",
        "\n",
        "def fibonacci_dinamico(n, memo = {}):\n",
        "    if n == 0 or n == 1:\n",
        "        return 1\n",
        "\n",
        "    try:\n",
        "        return memo[n]\n",
        "    except KeyError:\n",
        "        resultado = fibonacci_dinamico(n - 1, memo) + fibonacci_dinamico(n - 2, memo)\n",
        "        memo[n] = resultado\n",
        "\n",
        "        return resultado\n",
        "\n",
        "if __name__ == '__main__':\n",
        "    sys.setrecursionlimit(10002)\n",
        "    n = int(input('Escoge un numero: '))\n",
        "\n",
        "    resultado = fibonacci_dinamico(n)\n",
        "    print(resultado)"
      ],
      "execution_count": 12,
      "outputs": [
        {
          "output_type": "stream",
          "text": [
            "Escoge un numero: 1000\n",
            "70330367711422815821835254877183549770181269836358732742604905087154537118196933579742249494562611733487750449241765991088186363265450223647106012053374121273867339111198139373125598767690091902245245323403501\n"
          ],
          "name": "stdout"
        }
      ]
    },
    {
      "cell_type": "code",
      "metadata": {
        "id": "K2hbBTl7jB3P"
      },
      "source": [
        ""
      ],
      "execution_count": null,
      "outputs": []
    }
  ]
}