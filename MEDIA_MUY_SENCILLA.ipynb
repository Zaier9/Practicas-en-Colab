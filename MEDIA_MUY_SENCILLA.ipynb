{
  "nbformat": 4,
  "nbformat_minor": 0,
  "metadata": {
    "colab": {
      "name": "MEDIA_MUY_SENCILLA.ipynb",
      "provenance": [],
      "authorship_tag": "ABX9TyOTOFQaCyyp/oQS800Mh+1Q",
      "include_colab_link": true
    },
    "kernelspec": {
      "name": "python3",
      "display_name": "Python 3"
    },
    "language_info": {
      "name": "python"
    }
  },
  "cells": [
    {
      "cell_type": "markdown",
      "metadata": {
        "id": "view-in-github",
        "colab_type": "text"
      },
      "source": [
        "<a href=\"https://colab.research.google.com/github/Zaier9/Practicas-en-Colab/blob/main/MEDIA_MUY_SENCILLA.ipynb\" target=\"_parent\"><img src=\"https://colab.research.google.com/assets/colab-badge.svg\" alt=\"Open In Colab\"/></a>"
      ]
    },
    {
      "cell_type": "markdown",
      "metadata": {
        "id": "D6zBxMwSWTH6"
      },
      "source": [
        "**INFERENCIA ESTADISTICA**\n",
        "\n",
        "\n",
        "\n",
        "*   Con las simulaciones podemos calcular las probabilidades de eventos complejos sabiendo las probabilidades de eventos simples.\n",
        "*   Las técnicas de la Inferencia Estadística nos permiten inferir/concluir las propiedades de una población a partir de una muestra aleatoria.\n",
        "\n",
        "\n",
        "\"**El principio guía de la Inferencia Estadística es que una muestra aleatoria tiende a exhibir las mismas propiedades que la población de la cual fue extraída**\" JOHN GUTTAG"
      ]
    },
    {
      "cell_type": "markdown",
      "metadata": {
        "id": "HTBfduzQY2FC"
      },
      "source": [
        "**LEY DE LOS GRANDES NUMEROS**\n",
        "\n",
        "En pruebas independientes repetidas con la misma probabilidad (P) de resultado, la fracción de desviaciones de (P) converge a cero conforme la cantidad de pruebas se acerca al infinito."
      ]
    },
    {
      "cell_type": "markdown",
      "metadata": {
        "id": "-q0L1-PycY5O"
      },
      "source": [
        "**FALACIA DEL APOSTADOR**\n",
        "\n",
        "\n",
        "\n",
        "*   La falacia del apostador señala que después de un evento extremo, ocurrirán eventos menos extremos para nivelar la media.\n",
        "\n",
        "**REGRESION A LA MEDIA**\n",
        "\n",
        "*   La regresión a la media señala que después de un evento aleatorio extremo, el siguiente evento probablemente será menos extremo.\n",
        "\n"
      ]
    },
    {
      "cell_type": "markdown",
      "metadata": {
        "id": "ir88ffFOerRU"
      },
      "source": [
        "**MEDIA**\n",
        "\n",
        "\n",
        "\n",
        "*   Es una medida de tendencia central, conocida como promedio.\n",
        "* La media de una población se denota con el simbolo **µ** . La media de una muestra se denota con **⨰**.\n",
        "\n"
      ]
    },
    {
      "cell_type": "code",
      "metadata": {
        "colab": {
          "base_uri": "https://localhost:8080/"
        },
        "id": "RGa11IFtXDCf",
        "outputId": "74b9af0d-0788-4bee-b640-2b03d684d7d6"
      },
      "source": [
        "import random\n",
        "\n",
        "def media(X):\n",
        "    return sum(X) / len(X)\n",
        "\n",
        "if __name__ == '__main__':\n",
        "    X = [random.randint(1,21) for i in range(20)]\n",
        "    mu = media(X)\n",
        "\n",
        "    print(X)\n",
        "    print(mu)"
      ],
      "execution_count": 11,
      "outputs": [
        {
          "output_type": "stream",
          "text": [
            "[16, 19, 13, 16, 3, 2, 5, 8, 6, 7, 18, 16, 21, 4, 9, 2, 21, 12, 17, 16]\n",
            "11.55\n"
          ],
          "name": "stdout"
        }
      ]
    },
    {
      "cell_type": "code",
      "metadata": {
        "id": "ZVbEF0ypiTog"
      },
      "source": [
        ""
      ],
      "execution_count": null,
      "outputs": []
    }
  ]
}