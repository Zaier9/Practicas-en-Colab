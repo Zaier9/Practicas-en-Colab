{
  "nbformat": 4,
  "nbformat_minor": 0,
  "metadata": {
    "colab": {
      "name": "VARIANZA Y DESVIACION ESTANDAR.ipynb",
      "provenance": [],
      "authorship_tag": "ABX9TyO0pGjrq+Ga5t7doydzXFx9",
      "include_colab_link": true
    },
    "kernelspec": {
      "name": "python3",
      "display_name": "Python 3"
    },
    "language_info": {
      "name": "python"
    }
  },
  "cells": [
    {
      "cell_type": "markdown",
      "metadata": {
        "id": "view-in-github",
        "colab_type": "text"
      },
      "source": [
        "<a href=\"https://colab.research.google.com/github/Zaier9/Practicas-en-Colab/blob/main/VARIANZA_Y_DESVIACION_ESTANDAR.ipynb\" target=\"_parent\"><img src=\"https://colab.research.google.com/assets/colab-badge.svg\" alt=\"Open In Colab\"/></a>"
      ]
    },
    {
      "cell_type": "markdown",
      "metadata": {
        "id": "M68nruMbjFR9"
      },
      "source": [
        "**VARIANZA**\n",
        "\n",
        "\n",
        "\n",
        "*   La varianza mide qué tan propagados se encuentran un conjunto de valores aleatorios de su media.\n",
        "\n",
        "*   Mientras que la media nos da una idea de dónde se encuentran los valores, la varianza nos dice qué tan dispersos se encuentran.\n",
        "*   La varianza siempre debe entederse con respecto a la media.\n",
        "\n",
        "\n"
      ]
    },
    {
      "cell_type": "markdown",
      "metadata": {
        "id": "nGtDAryAk4XM"
      },
      "source": [
        "**DESVIACION ESTANDAR**\n",
        "\n",
        "\n",
        "\n",
        "*   La desviación estándar es la raíz cuadrada de la varianza.\n",
        "\n",
        "*   Nos permite entender, también, la propagación y se debe entender siempre relacionado a la media.\n",
        "*   La ventaja sobre la varianza es que la desviación estándar está en las mismas undidades que la media.\n",
        "\n"
      ]
    },
    {
      "cell_type": "code",
      "metadata": {
        "colab": {
          "base_uri": "https://localhost:8080/"
        },
        "id": "LFTW8botj1NP",
        "outputId": "1b8fdf40-5d96-429a-a39a-10eddfea3500"
      },
      "source": [
        "import random\n",
        "import math\n",
        "\n",
        "def media(X):\n",
        "    return sum(X) / len(X)\n",
        "\n",
        "def varianza(X):\n",
        "    mu = media(X)\n",
        "\n",
        "    acumulador = 0\n",
        "    for x in X:\n",
        "        acumulador += (x - mu)**2\n",
        "\n",
        "    return acumulador / len(X)\n",
        "\n",
        "def desviacion_estandar(X):\n",
        "    return math.sqrt(varianza(X))\n",
        "\n",
        "\n",
        "if __name__ == '__main__':\n",
        "    X = [random.randint(0,100) for i in range(20)]\n",
        "    mu = media(X)\n",
        "    Var = varianza(X)\n",
        "    sigma = desviacion_estandar(X)\n",
        "\n",
        "    print(f'Arreglo X = {X}')\n",
        "    print(f'Media = {mu}')\n",
        "    print(f'Varianza = {Var}')\n",
        "    print(f'Desviación estándar = {sigma}')"
      ],
      "execution_count": 21,
      "outputs": [
        {
          "output_type": "stream",
          "text": [
            "Arreglo X = [27, 36, 84, 33, 98, 16, 36, 43, 4, 67, 2, 35, 30, 92, 18, 71, 16, 83, 64, 70]\n",
            "Media = 46.25\n",
            "Varianza = 849.8875\n",
            "Desviación estándar = 29.152830051300338\n"
          ],
          "name": "stdout"
        }
      ]
    },
    {
      "cell_type": "code",
      "metadata": {
        "id": "gEJ9XQBuoRIj"
      },
      "source": [
        ""
      ],
      "execution_count": null,
      "outputs": []
    }
  ]
}