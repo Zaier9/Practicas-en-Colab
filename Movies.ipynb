{
  "nbformat": 4,
  "nbformat_minor": 0,
  "metadata": {
    "colab": {
      "name": "Movies.ipynb",
      "provenance": [],
      "collapsed_sections": [],
      "authorship_tag": "ABX9TyO90dWzGEwuuDyZBWzl+128",
      "include_colab_link": true
    },
    "kernelspec": {
      "name": "python3",
      "display_name": "Python 3"
    },
    "language_info": {
      "name": "python"
    }
  },
  "cells": [
    {
      "cell_type": "markdown",
      "metadata": {
        "id": "view-in-github",
        "colab_type": "text"
      },
      "source": [
        "<a href=\"https://colab.research.google.com/github/Zaier9/Practicas-en-Colab/blob/main/Movies.ipynb\" target=\"_parent\"><img src=\"https://colab.research.google.com/assets/colab-badge.svg\" alt=\"Open In Colab\"/></a>"
      ]
    },
    {
      "cell_type": "markdown",
      "metadata": {
        "id": "vcrpQzw6v5uZ"
      },
      "source": [
        "PRACTICANDO LA LIMPIEZA DE DATOS"
      ]
    },
    {
      "cell_type": "code",
      "metadata": {
        "id": "qV7grYTW25ym"
      },
      "source": [
        "import numpy as np\n",
        "import pandas as pd\n",
        "import matplotlib.pyplot as plt\n",
        "import seaborn as sb\n",
        "%matplotlib inline"
      ],
      "execution_count": 63,
      "outputs": []
    },
    {
      "cell_type": "code",
      "metadata": {
        "colab": {
          "base_uri": "https://localhost:8080/",
          "height": 377
        },
        "id": "WLrDEHzI3wZ1",
        "outputId": "0c8fec3f-892b-41ed-c4f0-9a6521972443"
      },
      "source": [
        "movies = pd.read_csv('/content/peliculas.csv')\n",
        "movies.head()"
      ],
      "execution_count": 64,
      "outputs": [
        {
          "output_type": "execute_result",
          "data": {
            "text/html": [
              "<div>\n",
              "<style scoped>\n",
              "    .dataframe tbody tr th:only-of-type {\n",
              "        vertical-align: middle;\n",
              "    }\n",
              "\n",
              "    .dataframe tbody tr th {\n",
              "        vertical-align: top;\n",
              "    }\n",
              "\n",
              "    .dataframe thead th {\n",
              "        text-align: right;\n",
              "    }\n",
              "</style>\n",
              "<table border=\"1\" class=\"dataframe\">\n",
              "  <thead>\n",
              "    <tr style=\"text-align: right;\">\n",
              "      <th></th>\n",
              "      <th>movie_title</th>\n",
              "      <th>title_year</th>\n",
              "      <th>color</th>\n",
              "      <th>aspect_ratio</th>\n",
              "      <th>duration</th>\n",
              "      <th>language</th>\n",
              "      <th>country</th>\n",
              "      <th>duration.1</th>\n",
              "      <th>genres</th>\n",
              "      <th>content_rating</th>\n",
              "      <th>plot_keywords</th>\n",
              "      <th>director_name</th>\n",
              "      <th>actor_1_name</th>\n",
              "      <th>actor_2_name</th>\n",
              "      <th>actor_3_name</th>\n",
              "      <th>cast_total_facebook_likes</th>\n",
              "      <th>budget</th>\n",
              "      <th>imdb_score</th>\n",
              "      <th>gross</th>\n",
              "    </tr>\n",
              "  </thead>\n",
              "  <tbody>\n",
              "    <tr>\n",
              "      <th>0</th>\n",
              "      <td>Avatar</td>\n",
              "      <td>2009.0</td>\n",
              "      <td>Color</td>\n",
              "      <td>1.78</td>\n",
              "      <td>178.0</td>\n",
              "      <td>English</td>\n",
              "      <td>USA</td>\n",
              "      <td>178.0</td>\n",
              "      <td>Action|Adventure|Fantasy|Sci-Fi</td>\n",
              "      <td>PG-13</td>\n",
              "      <td>avatar|future|marine|native|paraplegic</td>\n",
              "      <td>James Cameron</td>\n",
              "      <td>CCH Pounder</td>\n",
              "      <td>Joel David Moore</td>\n",
              "      <td>Wes Studi</td>\n",
              "      <td>4834</td>\n",
              "      <td>237000000.0</td>\n",
              "      <td>7.9</td>\n",
              "      <td>760505847.0</td>\n",
              "    </tr>\n",
              "    <tr>\n",
              "      <th>1</th>\n",
              "      <td>Pirates of the Caribbean: At World's End</td>\n",
              "      <td>2007.0</td>\n",
              "      <td>Color</td>\n",
              "      <td>2.35</td>\n",
              "      <td>169.0</td>\n",
              "      <td>English</td>\n",
              "      <td>USA</td>\n",
              "      <td>169.0</td>\n",
              "      <td>Action|Adventure|Fantasy</td>\n",
              "      <td>PG-13</td>\n",
              "      <td>goddess|marriage ceremony|marriage proposal|pi...</td>\n",
              "      <td>Gore Verbinski</td>\n",
              "      <td>Johnny Depp</td>\n",
              "      <td>Orlando Bloom</td>\n",
              "      <td>Jack Davenport</td>\n",
              "      <td>48350</td>\n",
              "      <td>300000000.0</td>\n",
              "      <td>7.1</td>\n",
              "      <td>309404152.0</td>\n",
              "    </tr>\n",
              "    <tr>\n",
              "      <th>2</th>\n",
              "      <td>Spectre</td>\n",
              "      <td>2015.0</td>\n",
              "      <td>Color</td>\n",
              "      <td>2.35</td>\n",
              "      <td>148.0</td>\n",
              "      <td>English</td>\n",
              "      <td>UK</td>\n",
              "      <td>148.0</td>\n",
              "      <td>Action|Adventure|Thriller</td>\n",
              "      <td>PG-13</td>\n",
              "      <td>bomb|espionage|sequel|spy|terrorist</td>\n",
              "      <td>Sam Mendes</td>\n",
              "      <td>Christoph Waltz</td>\n",
              "      <td>Rory Kinnear</td>\n",
              "      <td>Stephanie Sigman</td>\n",
              "      <td>11700</td>\n",
              "      <td>245000000.0</td>\n",
              "      <td>6.8</td>\n",
              "      <td>200074175.0</td>\n",
              "    </tr>\n",
              "    <tr>\n",
              "      <th>3</th>\n",
              "      <td>The Dark Knight Rises</td>\n",
              "      <td>2012.0</td>\n",
              "      <td>Color</td>\n",
              "      <td>2.35</td>\n",
              "      <td>164.0</td>\n",
              "      <td>English</td>\n",
              "      <td>USA</td>\n",
              "      <td>164.0</td>\n",
              "      <td>Action|Thriller</td>\n",
              "      <td>PG-13</td>\n",
              "      <td>deception|imprisonment|lawlessness|police offi...</td>\n",
              "      <td>Christopher Nolan</td>\n",
              "      <td>Tom Hardy</td>\n",
              "      <td>Christian Bale</td>\n",
              "      <td>Joseph Gordon-Levitt</td>\n",
              "      <td>106759</td>\n",
              "      <td>250000000.0</td>\n",
              "      <td>8.5</td>\n",
              "      <td>448130642.0</td>\n",
              "    </tr>\n",
              "    <tr>\n",
              "      <th>4</th>\n",
              "      <td>Star Wars: Episode VII - The Force Awakens    ...</td>\n",
              "      <td>NaN</td>\n",
              "      <td>NaN</td>\n",
              "      <td>NaN</td>\n",
              "      <td>NaN</td>\n",
              "      <td>NaN</td>\n",
              "      <td>NaN</td>\n",
              "      <td>NaN</td>\n",
              "      <td>Documentary</td>\n",
              "      <td>NaN</td>\n",
              "      <td>NaN</td>\n",
              "      <td>Doug Walker</td>\n",
              "      <td>Doug Walker</td>\n",
              "      <td>Rob Walker</td>\n",
              "      <td>NaN</td>\n",
              "      <td>143</td>\n",
              "      <td>NaN</td>\n",
              "      <td>7.1</td>\n",
              "      <td>NaN</td>\n",
              "    </tr>\n",
              "  </tbody>\n",
              "</table>\n",
              "</div>"
            ],
            "text/plain": [
              "                                         movie_title  ...        gross\n",
              "0                                            Avatar   ...  760505847.0\n",
              "1          Pirates of the Caribbean: At World's End   ...  309404152.0\n",
              "2                                           Spectre   ...  200074175.0\n",
              "3                             The Dark Knight Rises   ...  448130642.0\n",
              "4  Star Wars: Episode VII - The Force Awakens    ...  ...          NaN\n",
              "\n",
              "[5 rows x 19 columns]"
            ]
          },
          "metadata": {
            "tags": []
          },
          "execution_count": 64
        }
      ]
    },
    {
      "cell_type": "code",
      "metadata": {
        "colab": {
          "base_uri": "https://localhost:8080/"
        },
        "id": "oCSKSuyX4RjI",
        "outputId": "842048ec-5f45-4c5c-8ca0-71edbfd78334"
      },
      "source": [
        "movies.shape"
      ],
      "execution_count": 65,
      "outputs": [
        {
          "output_type": "execute_result",
          "data": {
            "text/plain": [
              "(5043, 19)"
            ]
          },
          "metadata": {
            "tags": []
          },
          "execution_count": 65
        }
      ]
    },
    {
      "cell_type": "code",
      "metadata": {
        "colab": {
          "base_uri": "https://localhost:8080/"
        },
        "id": "T88X77XK4u7L",
        "outputId": "0e479367-5ed3-4823-c292-9c332243972f"
      },
      "source": [
        "movies.columns"
      ],
      "execution_count": 66,
      "outputs": [
        {
          "output_type": "execute_result",
          "data": {
            "text/plain": [
              "Index(['movie_title', 'title_year', 'color', 'aspect_ratio', 'duration',\n",
              "       'language', 'country', 'duration.1', 'genres', 'content_rating',\n",
              "       'plot_keywords', 'director_name', 'actor_1_name', 'actor_2_name',\n",
              "       'actor_3_name', 'cast_total_facebook_likes', 'budget', 'imdb_score',\n",
              "       'gross'],\n",
              "      dtype='object')"
            ]
          },
          "metadata": {
            "tags": []
          },
          "execution_count": 66
        }
      ]
    },
    {
      "cell_type": "code",
      "metadata": {
        "colab": {
          "base_uri": "https://localhost:8080/"
        },
        "id": "PhNzs82e49KT",
        "outputId": "aa634c77-9394-49c0-c9e4-e9cb9471959d"
      },
      "source": [
        "movies.index"
      ],
      "execution_count": 67,
      "outputs": [
        {
          "output_type": "execute_result",
          "data": {
            "text/plain": [
              "RangeIndex(start=0, stop=5043, step=1)"
            ]
          },
          "metadata": {
            "tags": []
          },
          "execution_count": 67
        }
      ]
    },
    {
      "cell_type": "code",
      "metadata": {
        "colab": {
          "base_uri": "https://localhost:8080/"
        },
        "id": "LiPlDu1r5CH3",
        "outputId": "7363ab31-d408-418c-b6ac-ba66f170a890"
      },
      "source": [
        "column1 = movies['movie_title']\n",
        "column1"
      ],
      "execution_count": 68,
      "outputs": [
        {
          "output_type": "execute_result",
          "data": {
            "text/plain": [
              "0                                                 Avatar \n",
              "1               Pirates of the Caribbean: At World's End \n",
              "2                                                Spectre \n",
              "3                                  The Dark Knight Rises \n",
              "4       Star Wars: Episode VII - The Force Awakens    ...\n",
              "                              ...                        \n",
              "5038                             Signed Sealed Delivered \n",
              "5039                           The Following             \n",
              "5040                                A Plague So Pleasant \n",
              "5041                                    Shanghai Calling \n",
              "5042                                   My Date with Drew \n",
              "Name: movie_title, Length: 5043, dtype: object"
            ]
          },
          "metadata": {
            "tags": []
          },
          "execution_count": 68
        }
      ]
    },
    {
      "cell_type": "code",
      "metadata": {
        "colab": {
          "base_uri": "https://localhost:8080/"
        },
        "id": "x5HAA1IS5NmZ",
        "outputId": "3402f1a0-2bce-47d1-fed2-512da03e4f46"
      },
      "source": [
        "linea = movies.loc[10, :]\n",
        "linea"
      ],
      "execution_count": 69,
      "outputs": [
        {
          "output_type": "execute_result",
          "data": {
            "text/plain": [
              "movie_title                                Batman v Superman: Dawn of Justice \n",
              "title_year                                                                2016\n",
              "color                                                                    Color\n",
              "aspect_ratio                                                              2.35\n",
              "duration                                                                   183\n",
              "language                                                               English\n",
              "country                                                                    USA\n",
              "duration.1                                                                 183\n",
              "genres                                                 Action|Adventure|Sci-Fi\n",
              "content_rating                                                           PG-13\n",
              "plot_keywords                based on comic book|batman|sequel to a reboot|...\n",
              "director_name                                                      Zack Snyder\n",
              "actor_1_name                                                      Henry Cavill\n",
              "actor_2_name                                                      Lauren Cohan\n",
              "actor_3_name                                                    Alan D. Purwin\n",
              "cast_total_facebook_likes                                                24450\n",
              "budget                                                                 2.5e+08\n",
              "imdb_score                                                                 6.9\n",
              "gross                                                              3.30249e+08\n",
              "Name: 10, dtype: object"
            ]
          },
          "metadata": {
            "tags": []
          },
          "execution_count": 69
        }
      ]
    },
    {
      "cell_type": "code",
      "metadata": {
        "colab": {
          "base_uri": "https://localhost:8080/"
        },
        "id": "KXCz4tGH5pQd",
        "outputId": "75520c10-983f-4698-d55b-43d2351e1edd"
      },
      "source": [
        "movies.loc[:, 'movie_title']"
      ],
      "execution_count": 70,
      "outputs": [
        {
          "output_type": "execute_result",
          "data": {
            "text/plain": [
              "0                                                 Avatar \n",
              "1               Pirates of the Caribbean: At World's End \n",
              "2                                                Spectre \n",
              "3                                  The Dark Knight Rises \n",
              "4       Star Wars: Episode VII - The Force Awakens    ...\n",
              "                              ...                        \n",
              "5038                             Signed Sealed Delivered \n",
              "5039                           The Following             \n",
              "5040                                A Plague So Pleasant \n",
              "5041                                    Shanghai Calling \n",
              "5042                                   My Date with Drew \n",
              "Name: movie_title, Length: 5043, dtype: object"
            ]
          },
          "metadata": {
            "tags": []
          },
          "execution_count": 70
        }
      ]
    },
    {
      "cell_type": "code",
      "metadata": {
        "colab": {
          "base_uri": "https://localhost:8080/"
        },
        "id": "XWtXbIs_52-O",
        "outputId": "08c0bfbb-b886-4c7d-9040-272ced380b1f"
      },
      "source": [
        "movies.info()"
      ],
      "execution_count": 71,
      "outputs": [
        {
          "output_type": "stream",
          "text": [
            "<class 'pandas.core.frame.DataFrame'>\n",
            "RangeIndex: 5043 entries, 0 to 5042\n",
            "Data columns (total 19 columns):\n",
            " #   Column                     Non-Null Count  Dtype  \n",
            "---  ------                     --------------  -----  \n",
            " 0   movie_title                5043 non-null   object \n",
            " 1   title_year                 4935 non-null   float64\n",
            " 2   color                      5024 non-null   object \n",
            " 3   aspect_ratio               4714 non-null   float64\n",
            " 4   duration                   5028 non-null   float64\n",
            " 5   language                   5031 non-null   object \n",
            " 6   country                    5038 non-null   object \n",
            " 7   duration.1                 5028 non-null   float64\n",
            " 8   genres                     5043 non-null   object \n",
            " 9   content_rating             4740 non-null   object \n",
            " 10  plot_keywords              4890 non-null   object \n",
            " 11  director_name              4939 non-null   object \n",
            " 12  actor_1_name               5036 non-null   object \n",
            " 13  actor_2_name               5030 non-null   object \n",
            " 14  actor_3_name               5020 non-null   object \n",
            " 15  cast_total_facebook_likes  5043 non-null   int64  \n",
            " 16  budget                     4551 non-null   float64\n",
            " 17  imdb_score                 5043 non-null   float64\n",
            " 18  gross                      4159 non-null   float64\n",
            "dtypes: float64(7), int64(1), object(11)\n",
            "memory usage: 748.7+ KB\n"
          ],
          "name": "stdout"
        }
      ]
    },
    {
      "cell_type": "code",
      "metadata": {
        "colab": {
          "base_uri": "https://localhost:8080/"
        },
        "id": "-UQG8s4T8AsE",
        "outputId": "55412b2a-b47b-4023-ec99-681941372597"
      },
      "source": [
        "movies.dtypes"
      ],
      "execution_count": 72,
      "outputs": [
        {
          "output_type": "execute_result",
          "data": {
            "text/plain": [
              "movie_title                   object\n",
              "title_year                   float64\n",
              "color                         object\n",
              "aspect_ratio                 float64\n",
              "duration                     float64\n",
              "language                      object\n",
              "country                       object\n",
              "duration.1                   float64\n",
              "genres                        object\n",
              "content_rating                object\n",
              "plot_keywords                 object\n",
              "director_name                 object\n",
              "actor_1_name                  object\n",
              "actor_2_name                  object\n",
              "actor_3_name                  object\n",
              "cast_total_facebook_likes      int64\n",
              "budget                       float64\n",
              "imdb_score                   float64\n",
              "gross                        float64\n",
              "dtype: object"
            ]
          },
          "metadata": {
            "tags": []
          },
          "execution_count": 72
        }
      ]
    },
    {
      "cell_type": "code",
      "metadata": {
        "colab": {
          "base_uri": "https://localhost:8080/"
        },
        "id": "-51fyAHpAqtu",
        "outputId": "eaea1744-9122-451d-f4bc-47a1c7648916"
      },
      "source": [
        "movies.dtypes == object"
      ],
      "execution_count": 73,
      "outputs": [
        {
          "output_type": "execute_result",
          "data": {
            "text/plain": [
              "movie_title                   True\n",
              "title_year                   False\n",
              "color                         True\n",
              "aspect_ratio                 False\n",
              "duration                     False\n",
              "language                      True\n",
              "country                       True\n",
              "duration.1                   False\n",
              "genres                        True\n",
              "content_rating                True\n",
              "plot_keywords                 True\n",
              "director_name                 True\n",
              "actor_1_name                  True\n",
              "actor_2_name                  True\n",
              "actor_3_name                  True\n",
              "cast_total_facebook_likes    False\n",
              "budget                       False\n",
              "imdb_score                   False\n",
              "gross                        False\n",
              "dtype: bool"
            ]
          },
          "metadata": {
            "tags": []
          },
          "execution_count": 73
        }
      ]
    },
    {
      "cell_type": "code",
      "metadata": {
        "colab": {
          "base_uri": "https://localhost:8080/"
        },
        "id": "g3dNrH76Bten",
        "outputId": "a37a5b0a-3395-4ba6-a79f-68c46a2a28a6"
      },
      "source": [
        "num = (movies.dtypes == float) | (movies.dtypes == int)\n",
        "\n",
        "num_cols = [c for c in num.index if num[c]]\n",
        "num_cols"
      ],
      "execution_count": 74,
      "outputs": [
        {
          "output_type": "execute_result",
          "data": {
            "text/plain": [
              "['title_year',\n",
              " 'aspect_ratio',\n",
              " 'duration',\n",
              " 'duration.1',\n",
              " 'cast_total_facebook_likes',\n",
              " 'budget',\n",
              " 'imdb_score',\n",
              " 'gross']"
            ]
          },
          "metadata": {
            "tags": []
          },
          "execution_count": 74
        }
      ]
    },
    {
      "cell_type": "code",
      "metadata": {
        "colab": {
          "base_uri": "https://localhost:8080/"
        },
        "id": "8ZHhAv8DDXr3",
        "outputId": "8cd156f9-01b5-4154-9852-128461f41790"
      },
      "source": [
        "obj = (movies.dtypes == object)\n",
        "\n",
        "obj_cols = [c for c in obj.index if obj[c]]\n",
        "obj_cols"
      ],
      "execution_count": 75,
      "outputs": [
        {
          "output_type": "execute_result",
          "data": {
            "text/plain": [
              "['movie_title',\n",
              " 'color',\n",
              " 'language',\n",
              " 'country',\n",
              " 'genres',\n",
              " 'content_rating',\n",
              " 'plot_keywords',\n",
              " 'director_name',\n",
              " 'actor_1_name',\n",
              " 'actor_2_name',\n",
              " 'actor_3_name']"
            ]
          },
          "metadata": {
            "tags": []
          },
          "execution_count": 75
        }
      ]
    },
    {
      "cell_type": "code",
      "metadata": {
        "id": "OszNRExUEjpt"
      },
      "source": [
        "movies_num = movies[num_cols]"
      ],
      "execution_count": 76,
      "outputs": []
    },
    {
      "cell_type": "code",
      "metadata": {
        "colab": {
          "base_uri": "https://localhost:8080/",
          "height": 317
        },
        "id": "AZHHPeCmEy4O",
        "outputId": "653f451c-9297-4b76-fba1-c929e421fec0"
      },
      "source": [
        "movies_num.describe()"
      ],
      "execution_count": 77,
      "outputs": [
        {
          "output_type": "execute_result",
          "data": {
            "text/html": [
              "<div>\n",
              "<style scoped>\n",
              "    .dataframe tbody tr th:only-of-type {\n",
              "        vertical-align: middle;\n",
              "    }\n",
              "\n",
              "    .dataframe tbody tr th {\n",
              "        vertical-align: top;\n",
              "    }\n",
              "\n",
              "    .dataframe thead th {\n",
              "        text-align: right;\n",
              "    }\n",
              "</style>\n",
              "<table border=\"1\" class=\"dataframe\">\n",
              "  <thead>\n",
              "    <tr style=\"text-align: right;\">\n",
              "      <th></th>\n",
              "      <th>title_year</th>\n",
              "      <th>aspect_ratio</th>\n",
              "      <th>duration</th>\n",
              "      <th>duration.1</th>\n",
              "      <th>cast_total_facebook_likes</th>\n",
              "      <th>budget</th>\n",
              "      <th>imdb_score</th>\n",
              "      <th>gross</th>\n",
              "    </tr>\n",
              "  </thead>\n",
              "  <tbody>\n",
              "    <tr>\n",
              "      <th>count</th>\n",
              "      <td>4935.000000</td>\n",
              "      <td>4714.000000</td>\n",
              "      <td>5028.000000</td>\n",
              "      <td>5028.000000</td>\n",
              "      <td>5043.000000</td>\n",
              "      <td>4.551000e+03</td>\n",
              "      <td>5043.000000</td>\n",
              "      <td>4.159000e+03</td>\n",
              "    </tr>\n",
              "    <tr>\n",
              "      <th>mean</th>\n",
              "      <td>2002.470517</td>\n",
              "      <td>2.220403</td>\n",
              "      <td>107.201074</td>\n",
              "      <td>107.201074</td>\n",
              "      <td>9699.063851</td>\n",
              "      <td>3.975262e+07</td>\n",
              "      <td>6.442138</td>\n",
              "      <td>4.846841e+07</td>\n",
              "    </tr>\n",
              "    <tr>\n",
              "      <th>std</th>\n",
              "      <td>12.474599</td>\n",
              "      <td>1.385113</td>\n",
              "      <td>25.197441</td>\n",
              "      <td>25.197441</td>\n",
              "      <td>18163.799124</td>\n",
              "      <td>2.061149e+08</td>\n",
              "      <td>1.125116</td>\n",
              "      <td>6.845299e+07</td>\n",
              "    </tr>\n",
              "    <tr>\n",
              "      <th>min</th>\n",
              "      <td>1916.000000</td>\n",
              "      <td>1.180000</td>\n",
              "      <td>7.000000</td>\n",
              "      <td>7.000000</td>\n",
              "      <td>0.000000</td>\n",
              "      <td>2.180000e+02</td>\n",
              "      <td>1.600000</td>\n",
              "      <td>1.620000e+02</td>\n",
              "    </tr>\n",
              "    <tr>\n",
              "      <th>25%</th>\n",
              "      <td>1999.000000</td>\n",
              "      <td>1.850000</td>\n",
              "      <td>93.000000</td>\n",
              "      <td>93.000000</td>\n",
              "      <td>1411.000000</td>\n",
              "      <td>6.000000e+06</td>\n",
              "      <td>5.800000</td>\n",
              "      <td>5.340988e+06</td>\n",
              "    </tr>\n",
              "    <tr>\n",
              "      <th>50%</th>\n",
              "      <td>2005.000000</td>\n",
              "      <td>2.350000</td>\n",
              "      <td>103.000000</td>\n",
              "      <td>103.000000</td>\n",
              "      <td>3090.000000</td>\n",
              "      <td>2.000000e+07</td>\n",
              "      <td>6.600000</td>\n",
              "      <td>2.551750e+07</td>\n",
              "    </tr>\n",
              "    <tr>\n",
              "      <th>75%</th>\n",
              "      <td>2011.000000</td>\n",
              "      <td>2.350000</td>\n",
              "      <td>118.000000</td>\n",
              "      <td>118.000000</td>\n",
              "      <td>13756.500000</td>\n",
              "      <td>4.500000e+07</td>\n",
              "      <td>7.200000</td>\n",
              "      <td>6.230944e+07</td>\n",
              "    </tr>\n",
              "    <tr>\n",
              "      <th>max</th>\n",
              "      <td>2016.000000</td>\n",
              "      <td>16.000000</td>\n",
              "      <td>511.000000</td>\n",
              "      <td>511.000000</td>\n",
              "      <td>656730.000000</td>\n",
              "      <td>1.221550e+10</td>\n",
              "      <td>9.500000</td>\n",
              "      <td>7.605058e+08</td>\n",
              "    </tr>\n",
              "  </tbody>\n",
              "</table>\n",
              "</div>"
            ],
            "text/plain": [
              "        title_year  aspect_ratio  ...   imdb_score         gross\n",
              "count  4935.000000   4714.000000  ...  5043.000000  4.159000e+03\n",
              "mean   2002.470517      2.220403  ...     6.442138  4.846841e+07\n",
              "std      12.474599      1.385113  ...     1.125116  6.845299e+07\n",
              "min    1916.000000      1.180000  ...     1.600000  1.620000e+02\n",
              "25%    1999.000000      1.850000  ...     5.800000  5.340988e+06\n",
              "50%    2005.000000      2.350000  ...     6.600000  2.551750e+07\n",
              "75%    2011.000000      2.350000  ...     7.200000  6.230944e+07\n",
              "max    2016.000000     16.000000  ...     9.500000  7.605058e+08\n",
              "\n",
              "[8 rows x 8 columns]"
            ]
          },
          "metadata": {
            "tags": []
          },
          "execution_count": 77
        }
      ]
    },
    {
      "cell_type": "code",
      "metadata": {
        "colab": {
          "base_uri": "https://localhost:8080/",
          "height": 285
        },
        "id": "BlOuwPcGFBKE",
        "outputId": "4df5b8a7-6f1c-4a05-c3af-01052e74ee1c"
      },
      "source": [
        "movies_num['duration'].hist()"
      ],
      "execution_count": 78,
      "outputs": [
        {
          "output_type": "execute_result",
          "data": {
            "text/plain": [
              "<matplotlib.axes._subplots.AxesSubplot at 0x7f8e7b4b5990>"
            ]
          },
          "metadata": {
            "tags": []
          },
          "execution_count": 78
        },
        {
          "output_type": "display_data",
          "data": {
            "image/png": "[encoded data removed]",
            "text/plain": [
              "<Figure size 432x288 with 1 Axes>"
            ]
          },
          "metadata": {
            "tags": [],
            "needs_background": "light"
          }
        }
      ]
    },
    {
      "cell_type": "code",
      "metadata": {
        "colab": {
          "base_uri": "https://localhost:8080/",
          "height": 282
        },
        "id": "d6C0FvkkFdXq",
        "outputId": "58f7f76d-4919-4332-f582-93f588126143"
      },
      "source": [
        "movies_num['imdb_score'].hist()"
      ],
      "execution_count": 79,
      "outputs": [
        {
          "output_type": "execute_result",
          "data": {
            "text/plain": [
              "<matplotlib.axes._subplots.AxesSubplot at 0x7f8e795d7bd0>"
            ]
          },
          "metadata": {
            "tags": []
          },
          "execution_count": 79
        },
        {
          "output_type": "display_data",
          "data": {
            "image/png": "[encoded data removed]",
            "text/plain": [
              "<Figure size 432x288 with 1 Axes>"
            ]
          },
          "metadata": {
            "tags": [],
            "needs_background": "light"
          }
        }
      ]
    },
    {
      "cell_type": "markdown",
      "metadata": {
        "id": "EC4vsP6XHmhX"
      },
      "source": [
        "En e siguiente llamado vemos una anomalía ya que queremos filtrar los presupuestos de las peliculas y hay películas que han puesto el número en sus respectiva monedas como por ejemplo el (Yen) que en frente al dolar está 100 a 1 abajo. Vamos a tener que filtar cuáles son tales películas y arreglarlas."
      ]
    },
    {
      "cell_type": "code",
      "metadata": {
        "colab": {
          "base_uri": "https://localhost:8080/",
          "height": 295
        },
        "id": "zsVpaLLIFnzg",
        "outputId": "88b57edb-d92b-4d81-e984-73fda9358ccb"
      },
      "source": [
        "movies_num['budget'].hist()"
      ],
      "execution_count": 80,
      "outputs": [
        {
          "output_type": "execute_result",
          "data": {
            "text/plain": [
              "<matplotlib.axes._subplots.AxesSubplot at 0x7f8e7b7ae710>"
            ]
          },
          "metadata": {
            "tags": []
          },
          "execution_count": 80
        },
        {
          "output_type": "display_data",
          "data": {
            "image/png": "[encoded data removed]",
            "text/plain": [
              "<Figure size 432x288 with 1 Axes>"
            ]
          },
          "metadata": {
            "tags": [],
            "needs_background": "light"
          }
        }
      ]
    },
    {
      "cell_type": "code",
      "metadata": {
        "id": "CP9iE13GF6Zu"
      },
      "source": [
        "mask = (movies_num['budget'] > 1e9)"
      ],
      "execution_count": 81,
      "outputs": []
    },
    {
      "cell_type": "code",
      "metadata": {
        "colab": {
          "base_uri": "https://localhost:8080/"
        },
        "id": "c4jsTk9qGRCD",
        "outputId": "3d3ea5da-3c3f-4974-ffb6-4d6be2f8daea"
      },
      "source": [
        "mask"
      ],
      "execution_count": 82,
      "outputs": [
        {
          "output_type": "execute_result",
          "data": {
            "text/plain": [
              "0       False\n",
              "1       False\n",
              "2       False\n",
              "3       False\n",
              "4       False\n",
              "        ...  \n",
              "5038    False\n",
              "5039    False\n",
              "5040    False\n",
              "5041    False\n",
              "5042    False\n",
              "Name: budget, Length: 5043, dtype: bool"
            ]
          },
          "metadata": {
            "tags": []
          },
          "execution_count": 82
        }
      ]
    },
    {
      "cell_type": "code",
      "metadata": {
        "colab": {
          "base_uri": "https://localhost:8080/",
          "height": 374
        },
        "id": "V8GdyJfKGwzg",
        "outputId": "d7c68672-2c4b-40af-e6c8-29a8a63e039f"
      },
      "source": [
        "movies[mask]"
      ],
      "execution_count": 83,
      "outputs": [
        {
          "output_type": "execute_result",
          "data": {
            "text/html": [
              "<div>\n",
              "<style scoped>\n",
              "    .dataframe tbody tr th:only-of-type {\n",
              "        vertical-align: middle;\n",
              "    }\n",
              "\n",
              "    .dataframe tbody tr th {\n",
              "        vertical-align: top;\n",
              "    }\n",
              "\n",
              "    .dataframe thead th {\n",
              "        text-align: right;\n",
              "    }\n",
              "</style>\n",
              "<table border=\"1\" class=\"dataframe\">\n",
              "  <thead>\n",
              "    <tr style=\"text-align: right;\">\n",
              "      <th></th>\n",
              "      <th>movie_title</th>\n",
              "      <th>title_year</th>\n",
              "      <th>color</th>\n",
              "      <th>aspect_ratio</th>\n",
              "      <th>duration</th>\n",
              "      <th>language</th>\n",
              "      <th>country</th>\n",
              "      <th>duration.1</th>\n",
              "      <th>genres</th>\n",
              "      <th>content_rating</th>\n",
              "      <th>plot_keywords</th>\n",
              "      <th>director_name</th>\n",
              "      <th>actor_1_name</th>\n",
              "      <th>actor_2_name</th>\n",
              "      <th>actor_3_name</th>\n",
              "      <th>cast_total_facebook_likes</th>\n",
              "      <th>budget</th>\n",
              "      <th>imdb_score</th>\n",
              "      <th>gross</th>\n",
              "    </tr>\n",
              "  </thead>\n",
              "  <tbody>\n",
              "    <tr>\n",
              "      <th>2323</th>\n",
              "      <td>Princess Mononoke</td>\n",
              "      <td>1997.0</td>\n",
              "      <td>Color</td>\n",
              "      <td>1.85</td>\n",
              "      <td>134.0</td>\n",
              "      <td>Japanese</td>\n",
              "      <td>Japan</td>\n",
              "      <td>134.0</td>\n",
              "      <td>Adventure|Animation|Fantasy</td>\n",
              "      <td>PG-13</td>\n",
              "      <td>anime|cult film|forest|princess|studio ghibli</td>\n",
              "      <td>Hayao Miyazaki</td>\n",
              "      <td>Minnie Driver</td>\n",
              "      <td>Jada Pinkett Smith</td>\n",
              "      <td>Billy Crudup</td>\n",
              "      <td>2710</td>\n",
              "      <td>2.400000e+09</td>\n",
              "      <td>8.4</td>\n",
              "      <td>2298191.0</td>\n",
              "    </tr>\n",
              "    <tr>\n",
              "      <th>2334</th>\n",
              "      <td>Steamboy</td>\n",
              "      <td>2004.0</td>\n",
              "      <td>Color</td>\n",
              "      <td>1.85</td>\n",
              "      <td>103.0</td>\n",
              "      <td>Japanese</td>\n",
              "      <td>Japan</td>\n",
              "      <td>103.0</td>\n",
              "      <td>Action|Adventure|Animation|Family|Sci-Fi|Thriller</td>\n",
              "      <td>PG-13</td>\n",
              "      <td>19th century|ball|boy|inventor|steam</td>\n",
              "      <td>Katsuhiro Ôtomo</td>\n",
              "      <td>William Hootkins</td>\n",
              "      <td>Robin Atkin Downes</td>\n",
              "      <td>Rosalind Ayres</td>\n",
              "      <td>991</td>\n",
              "      <td>2.127520e+09</td>\n",
              "      <td>6.9</td>\n",
              "      <td>410388.0</td>\n",
              "    </tr>\n",
              "    <tr>\n",
              "      <th>2988</th>\n",
              "      <td>The Host</td>\n",
              "      <td>2006.0</td>\n",
              "      <td>Color</td>\n",
              "      <td>1.85</td>\n",
              "      <td>110.0</td>\n",
              "      <td>Korean</td>\n",
              "      <td>South Korea</td>\n",
              "      <td>110.0</td>\n",
              "      <td>Comedy|Drama|Horror|Sci-Fi</td>\n",
              "      <td>R</td>\n",
              "      <td>daughter|han river|monster|river|seoul</td>\n",
              "      <td>Joon-ho Bong</td>\n",
              "      <td>Doona Bae</td>\n",
              "      <td>Kang-ho Song</td>\n",
              "      <td>Ah-sung Ko</td>\n",
              "      <td>1173</td>\n",
              "      <td>1.221550e+10</td>\n",
              "      <td>7.0</td>\n",
              "      <td>2201412.0</td>\n",
              "    </tr>\n",
              "    <tr>\n",
              "      <th>3005</th>\n",
              "      <td>Fateless</td>\n",
              "      <td>2005.0</td>\n",
              "      <td>Color</td>\n",
              "      <td>2.35</td>\n",
              "      <td>134.0</td>\n",
              "      <td>Hungarian</td>\n",
              "      <td>Hungary</td>\n",
              "      <td>134.0</td>\n",
              "      <td>Drama|Romance|War</td>\n",
              "      <td>R</td>\n",
              "      <td>bus|death|gay slur|hatred|jewish</td>\n",
              "      <td>Lajos Koltai</td>\n",
              "      <td>Marcell Nagy</td>\n",
              "      <td>Péter Fancsikai</td>\n",
              "      <td>Bálint Péntek</td>\n",
              "      <td>11</td>\n",
              "      <td>2.500000e+09</td>\n",
              "      <td>7.1</td>\n",
              "      <td>195888.0</td>\n",
              "    </tr>\n",
              "    <tr>\n",
              "      <th>3423</th>\n",
              "      <td>Akira</td>\n",
              "      <td>1988.0</td>\n",
              "      <td>Color</td>\n",
              "      <td>1.85</td>\n",
              "      <td>124.0</td>\n",
              "      <td>Japanese</td>\n",
              "      <td>Japan</td>\n",
              "      <td>124.0</td>\n",
              "      <td>Action|Animation|Sci-Fi</td>\n",
              "      <td>R</td>\n",
              "      <td>based on manga|biker gang|gifted child|post th...</td>\n",
              "      <td>Katsuhiro Ôtomo</td>\n",
              "      <td>Mitsuo Iwata</td>\n",
              "      <td>Takeshi Kusao</td>\n",
              "      <td>Tesshô Genda</td>\n",
              "      <td>28</td>\n",
              "      <td>1.100000e+09</td>\n",
              "      <td>8.1</td>\n",
              "      <td>439162.0</td>\n",
              "    </tr>\n",
              "    <tr>\n",
              "      <th>3859</th>\n",
              "      <td>Lady Vengeance</td>\n",
              "      <td>2005.0</td>\n",
              "      <td>Color</td>\n",
              "      <td>2.35</td>\n",
              "      <td>112.0</td>\n",
              "      <td>Korean</td>\n",
              "      <td>South Korea</td>\n",
              "      <td>112.0</td>\n",
              "      <td>Crime|Drama</td>\n",
              "      <td>R</td>\n",
              "      <td>cake|christian|lesbian sex|oral sex|pregnant s...</td>\n",
              "      <td>Chan-wook Park</td>\n",
              "      <td>Min-sik Choi</td>\n",
              "      <td>Yeong-ae Lee</td>\n",
              "      <td>Hye-jeong Kang</td>\n",
              "      <td>907</td>\n",
              "      <td>4.200000e+09</td>\n",
              "      <td>7.7</td>\n",
              "      <td>211667.0</td>\n",
              "    </tr>\n",
              "  </tbody>\n",
              "</table>\n",
              "</div>"
            ],
            "text/plain": [
              "             movie_title  title_year  ... imdb_score      gross\n",
              "2323  Princess Mononoke       1997.0  ...        8.4  2298191.0\n",
              "2334           Steamboy       2004.0  ...        6.9   410388.0\n",
              "2988           The Host       2006.0  ...        7.0  2201412.0\n",
              "3005           Fateless       2005.0  ...        7.1   195888.0\n",
              "3423              Akira       1988.0  ...        8.1   439162.0\n",
              "3859     Lady Vengeance       2005.0  ...        7.7   211667.0\n",
              "\n",
              "[6 rows x 19 columns]"
            ]
          },
          "metadata": {
            "tags": []
          },
          "execution_count": 83
        }
      ]
    },
    {
      "cell_type": "code",
      "metadata": {
        "colab": {
          "base_uri": "https://localhost:8080/",
          "height": 745
        },
        "id": "oxpAdL-TG0QZ",
        "outputId": "81756841-49f9-4daa-8208-517b70865781"
      },
      "source": [
        "pd.read_csv('/content/thenumbers.csv')"
      ],
      "execution_count": 84,
      "outputs": [
        {
          "output_type": "execute_result",
          "data": {
            "text/html": [
              "<div>\n",
              "<style scoped>\n",
              "    .dataframe tbody tr th:only-of-type {\n",
              "        vertical-align: middle;\n",
              "    }\n",
              "\n",
              "    .dataframe tbody tr th {\n",
              "        vertical-align: top;\n",
              "    }\n",
              "\n",
              "    .dataframe thead th {\n",
              "        text-align: right;\n",
              "    }\n",
              "</style>\n",
              "<table border=\"1\" class=\"dataframe\">\n",
              "  <thead>\n",
              "    <tr style=\"text-align: right;\">\n",
              "      <th></th>\n",
              "      <th>Unnamed: 0</th>\n",
              "      <th>movie_name</th>\n",
              "      <th>domestic_gross</th>\n",
              "      <th>movie_link</th>\n",
              "      <th>production_budget</th>\n",
              "      <th>release_date</th>\n",
              "      <th>worldwide_gross</th>\n",
              "      <th>movie_title</th>\n",
              "    </tr>\n",
              "  </thead>\n",
              "  <tbody>\n",
              "    <tr>\n",
              "      <th>0</th>\n",
              "      <td>0</td>\n",
              "      <td>Avatar</td>\n",
              "      <td>760507625</td>\n",
              "      <td>http://www.the-numbers.com/movie/Avatar#tab=su...</td>\n",
              "      <td>425000000</td>\n",
              "      <td>12/18/2009</td>\n",
              "      <td>2783918982</td>\n",
              "      <td>Avatar</td>\n",
              "    </tr>\n",
              "    <tr>\n",
              "      <th>1</th>\n",
              "      <td>1</td>\n",
              "      <td>Star Wars Ep. VII: The Force Awakens</td>\n",
              "      <td>936662225</td>\n",
              "      <td>http://www.the-numbers.com/movie/Star-Wars-Ep-...</td>\n",
              "      <td>306000000</td>\n",
              "      <td>12/18/2015</td>\n",
              "      <td>2058662225</td>\n",
              "      <td>Star Wars: Episode VII - The Force Awakens    ...</td>\n",
              "    </tr>\n",
              "    <tr>\n",
              "      <th>2</th>\n",
              "      <td>2</td>\n",
              "      <td>Pirates of the Caribbean: At World's End</td>\n",
              "      <td>309420425</td>\n",
              "      <td>http://www.the-numbers.com/movie/Pirates-of-th...</td>\n",
              "      <td>300000000</td>\n",
              "      <td>5/24/2007</td>\n",
              "      <td>963420425</td>\n",
              "      <td>Pirates of the Caribbean: At World's End</td>\n",
              "    </tr>\n",
              "    <tr>\n",
              "      <th>3</th>\n",
              "      <td>3</td>\n",
              "      <td>Spectre</td>\n",
              "      <td>200074175</td>\n",
              "      <td>http://www.the-numbers.com/movie/Spectre#tab=s...</td>\n",
              "      <td>300000000</td>\n",
              "      <td>11/6/2015</td>\n",
              "      <td>879620923</td>\n",
              "      <td>Spectre</td>\n",
              "    </tr>\n",
              "    <tr>\n",
              "      <th>4</th>\n",
              "      <td>4</td>\n",
              "      <td>The Dark Knight Rises</td>\n",
              "      <td>448139099</td>\n",
              "      <td>http://www.the-numbers.com/movie/Dark-Knight-R...</td>\n",
              "      <td>275000000</td>\n",
              "      <td>7/20/2012</td>\n",
              "      <td>1084439099</td>\n",
              "      <td>The Dark Knight Rises</td>\n",
              "    </tr>\n",
              "    <tr>\n",
              "      <th>...</th>\n",
              "      <td>...</td>\n",
              "      <td>...</td>\n",
              "      <td>...</td>\n",
              "      <td>...</td>\n",
              "      <td>...</td>\n",
              "      <td>...</td>\n",
              "      <td>...</td>\n",
              "      <td>...</td>\n",
              "    </tr>\n",
              "    <tr>\n",
              "      <th>4336</th>\n",
              "      <td>5157</td>\n",
              "      <td>The Mongol King</td>\n",
              "      <td>900</td>\n",
              "      <td>http://www.the-numbers.com/movie/Mongol-King-T...</td>\n",
              "      <td>7000</td>\n",
              "      <td>1/1/2004</td>\n",
              "      <td>900</td>\n",
              "      <td>The Mongol King</td>\n",
              "    </tr>\n",
              "    <tr>\n",
              "      <th>4337</th>\n",
              "      <td>5160</td>\n",
              "      <td>Signed Sealed Delivered</td>\n",
              "      <td>0</td>\n",
              "      <td>http://www.the-numbers.com/movie/Signed-Sealed...</td>\n",
              "      <td>5000</td>\n",
              "      <td>9/29/2015</td>\n",
              "      <td>0</td>\n",
              "      <td>Signed Sealed Delivered</td>\n",
              "    </tr>\n",
              "    <tr>\n",
              "      <th>4338</th>\n",
              "      <td>5161</td>\n",
              "      <td>Shanghai Calling</td>\n",
              "      <td>10443</td>\n",
              "      <td>http://www.the-numbers.com/movie/Shanghai-Call...</td>\n",
              "      <td>3967</td>\n",
              "      <td>2/15/2013</td>\n",
              "      <td>10443</td>\n",
              "      <td>Shanghai Calling</td>\n",
              "    </tr>\n",
              "    <tr>\n",
              "      <th>4339</th>\n",
              "      <td>5162</td>\n",
              "      <td>A Plague So Pleasant</td>\n",
              "      <td>0</td>\n",
              "      <td>http://www.the-numbers.com/movie/Plague-So-Ple...</td>\n",
              "      <td>1400</td>\n",
              "      <td>9/29/2015</td>\n",
              "      <td>0</td>\n",
              "      <td>A Plague So Pleasant</td>\n",
              "    </tr>\n",
              "    <tr>\n",
              "      <th>4340</th>\n",
              "      <td>5163</td>\n",
              "      <td>My Date With Drew</td>\n",
              "      <td>181041</td>\n",
              "      <td>http://www.the-numbers.com/movie/My-Date-With-...</td>\n",
              "      <td>1100</td>\n",
              "      <td>8/5/2005</td>\n",
              "      <td>181041</td>\n",
              "      <td>My Date with Drew</td>\n",
              "    </tr>\n",
              "  </tbody>\n",
              "</table>\n",
              "<p>4341 rows × 8 columns</p>\n",
              "</div>"
            ],
            "text/plain": [
              "      Unnamed: 0  ...                                        movie_title\n",
              "0              0  ...                                            Avatar \n",
              "1              1  ...  Star Wars: Episode VII - The Force Awakens    ...\n",
              "2              2  ...          Pirates of the Caribbean: At World's End \n",
              "3              3  ...                                           Spectre \n",
              "4              4  ...                             The Dark Knight Rises \n",
              "...          ...  ...                                                ...\n",
              "4336        5157  ...                                   The Mongol King \n",
              "4337        5160  ...                           Signed Sealed Delivered \n",
              "4338        5161  ...                                  Shanghai Calling \n",
              "4339        5162  ...                              A Plague So Pleasant \n",
              "4340        5163  ...                                 My Date with Drew \n",
              "\n",
              "[4341 rows x 8 columns]"
            ]
          },
          "metadata": {
            "tags": []
          },
          "execution_count": 84
        }
      ]
    },
    {
      "cell_type": "code",
      "metadata": {
        "id": "Gj6_47iJIynp"
      },
      "source": [
        "financials = pd.read_csv('/content/thenumbers.csv')"
      ],
      "execution_count": 85,
      "outputs": []
    },
    {
      "cell_type": "code",
      "metadata": {
        "id": "R55uIrpULj34"
      },
      "source": [
        "financials = financials[['movie_title', 'production_budget', 'worldwide_gross']]"
      ],
      "execution_count": 86,
      "outputs": []
    },
    {
      "cell_type": "code",
      "metadata": {
        "colab": {
          "base_uri": "https://localhost:8080/",
          "height": 419
        },
        "id": "WPTD2aKVMBu7",
        "outputId": "7daa4075-02fd-4c5b-9240-4eb68c58332e"
      },
      "source": [
        "financials"
      ],
      "execution_count": 87,
      "outputs": [
        {
          "output_type": "execute_result",
          "data": {
            "text/html": [
              "<div>\n",
              "<style scoped>\n",
              "    .dataframe tbody tr th:only-of-type {\n",
              "        vertical-align: middle;\n",
              "    }\n",
              "\n",
              "    .dataframe tbody tr th {\n",
              "        vertical-align: top;\n",
              "    }\n",
              "\n",
              "    .dataframe thead th {\n",
              "        text-align: right;\n",
              "    }\n",
              "</style>\n",
              "<table border=\"1\" class=\"dataframe\">\n",
              "  <thead>\n",
              "    <tr style=\"text-align: right;\">\n",
              "      <th></th>\n",
              "      <th>movie_title</th>\n",
              "      <th>production_budget</th>\n",
              "      <th>worldwide_gross</th>\n",
              "    </tr>\n",
              "  </thead>\n",
              "  <tbody>\n",
              "    <tr>\n",
              "      <th>0</th>\n",
              "      <td>Avatar</td>\n",
              "      <td>425000000</td>\n",
              "      <td>2783918982</td>\n",
              "    </tr>\n",
              "    <tr>\n",
              "      <th>1</th>\n",
              "      <td>Star Wars: Episode VII - The Force Awakens    ...</td>\n",
              "      <td>306000000</td>\n",
              "      <td>2058662225</td>\n",
              "    </tr>\n",
              "    <tr>\n",
              "      <th>2</th>\n",
              "      <td>Pirates of the Caribbean: At World's End</td>\n",
              "      <td>300000000</td>\n",
              "      <td>963420425</td>\n",
              "    </tr>\n",
              "    <tr>\n",
              "      <th>3</th>\n",
              "      <td>Spectre</td>\n",
              "      <td>300000000</td>\n",
              "      <td>879620923</td>\n",
              "    </tr>\n",
              "    <tr>\n",
              "      <th>4</th>\n",
              "      <td>The Dark Knight Rises</td>\n",
              "      <td>275000000</td>\n",
              "      <td>1084439099</td>\n",
              "    </tr>\n",
              "    <tr>\n",
              "      <th>...</th>\n",
              "      <td>...</td>\n",
              "      <td>...</td>\n",
              "      <td>...</td>\n",
              "    </tr>\n",
              "    <tr>\n",
              "      <th>4336</th>\n",
              "      <td>The Mongol King</td>\n",
              "      <td>7000</td>\n",
              "      <td>900</td>\n",
              "    </tr>\n",
              "    <tr>\n",
              "      <th>4337</th>\n",
              "      <td>Signed Sealed Delivered</td>\n",
              "      <td>5000</td>\n",
              "      <td>0</td>\n",
              "    </tr>\n",
              "    <tr>\n",
              "      <th>4338</th>\n",
              "      <td>Shanghai Calling</td>\n",
              "      <td>3967</td>\n",
              "      <td>10443</td>\n",
              "    </tr>\n",
              "    <tr>\n",
              "      <th>4339</th>\n",
              "      <td>A Plague So Pleasant</td>\n",
              "      <td>1400</td>\n",
              "      <td>0</td>\n",
              "    </tr>\n",
              "    <tr>\n",
              "      <th>4340</th>\n",
              "      <td>My Date with Drew</td>\n",
              "      <td>1100</td>\n",
              "      <td>181041</td>\n",
              "    </tr>\n",
              "  </tbody>\n",
              "</table>\n",
              "<p>4341 rows × 3 columns</p>\n",
              "</div>"
            ],
            "text/plain": [
              "                                            movie_title  ...  worldwide_gross\n",
              "0                                               Avatar   ...       2783918982\n",
              "1     Star Wars: Episode VII - The Force Awakens    ...  ...       2058662225\n",
              "2             Pirates of the Caribbean: At World's End   ...        963420425\n",
              "3                                              Spectre   ...        879620923\n",
              "4                                The Dark Knight Rises   ...       1084439099\n",
              "...                                                 ...  ...              ...\n",
              "4336                                   The Mongol King   ...              900\n",
              "4337                           Signed Sealed Delivered   ...                0\n",
              "4338                                  Shanghai Calling   ...            10443\n",
              "4339                              A Plague So Pleasant   ...                0\n",
              "4340                                 My Date with Drew   ...           181041\n",
              "\n",
              "[4341 rows x 3 columns]"
            ]
          },
          "metadata": {
            "tags": []
          },
          "execution_count": 87
        }
      ]
    },
    {
      "cell_type": "code",
      "metadata": {
        "colab": {
          "base_uri": "https://localhost:8080/",
          "height": 439
        },
        "id": "Qn3fyAuUMDAl",
        "outputId": "060aa974-d3f0-48a6-e69f-bcecffd76246"
      },
      "source": [
        "movies_num"
      ],
      "execution_count": 88,
      "outputs": [
        {
          "output_type": "execute_result",
          "data": {
            "text/html": [
              "<div>\n",
              "<style scoped>\n",
              "    .dataframe tbody tr th:only-of-type {\n",
              "        vertical-align: middle;\n",
              "    }\n",
              "\n",
              "    .dataframe tbody tr th {\n",
              "        vertical-align: top;\n",
              "    }\n",
              "\n",
              "    .dataframe thead th {\n",
              "        text-align: right;\n",
              "    }\n",
              "</style>\n",
              "<table border=\"1\" class=\"dataframe\">\n",
              "  <thead>\n",
              "    <tr style=\"text-align: right;\">\n",
              "      <th></th>\n",
              "      <th>title_year</th>\n",
              "      <th>aspect_ratio</th>\n",
              "      <th>duration</th>\n",
              "      <th>duration.1</th>\n",
              "      <th>cast_total_facebook_likes</th>\n",
              "      <th>budget</th>\n",
              "      <th>imdb_score</th>\n",
              "      <th>gross</th>\n",
              "    </tr>\n",
              "  </thead>\n",
              "  <tbody>\n",
              "    <tr>\n",
              "      <th>0</th>\n",
              "      <td>2009.0</td>\n",
              "      <td>1.78</td>\n",
              "      <td>178.0</td>\n",
              "      <td>178.0</td>\n",
              "      <td>4834</td>\n",
              "      <td>237000000.0</td>\n",
              "      <td>7.9</td>\n",
              "      <td>760505847.0</td>\n",
              "    </tr>\n",
              "    <tr>\n",
              "      <th>1</th>\n",
              "      <td>2007.0</td>\n",
              "      <td>2.35</td>\n",
              "      <td>169.0</td>\n",
              "      <td>169.0</td>\n",
              "      <td>48350</td>\n",
              "      <td>300000000.0</td>\n",
              "      <td>7.1</td>\n",
              "      <td>309404152.0</td>\n",
              "    </tr>\n",
              "    <tr>\n",
              "      <th>2</th>\n",
              "      <td>2015.0</td>\n",
              "      <td>2.35</td>\n",
              "      <td>148.0</td>\n",
              "      <td>148.0</td>\n",
              "      <td>11700</td>\n",
              "      <td>245000000.0</td>\n",
              "      <td>6.8</td>\n",
              "      <td>200074175.0</td>\n",
              "    </tr>\n",
              "    <tr>\n",
              "      <th>3</th>\n",
              "      <td>2012.0</td>\n",
              "      <td>2.35</td>\n",
              "      <td>164.0</td>\n",
              "      <td>164.0</td>\n",
              "      <td>106759</td>\n",
              "      <td>250000000.0</td>\n",
              "      <td>8.5</td>\n",
              "      <td>448130642.0</td>\n",
              "    </tr>\n",
              "    <tr>\n",
              "      <th>4</th>\n",
              "      <td>NaN</td>\n",
              "      <td>NaN</td>\n",
              "      <td>NaN</td>\n",
              "      <td>NaN</td>\n",
              "      <td>143</td>\n",
              "      <td>NaN</td>\n",
              "      <td>7.1</td>\n",
              "      <td>NaN</td>\n",
              "    </tr>\n",
              "    <tr>\n",
              "      <th>...</th>\n",
              "      <td>...</td>\n",
              "      <td>...</td>\n",
              "      <td>...</td>\n",
              "      <td>...</td>\n",
              "      <td>...</td>\n",
              "      <td>...</td>\n",
              "      <td>...</td>\n",
              "      <td>...</td>\n",
              "    </tr>\n",
              "    <tr>\n",
              "      <th>5038</th>\n",
              "      <td>2013.0</td>\n",
              "      <td>NaN</td>\n",
              "      <td>87.0</td>\n",
              "      <td>87.0</td>\n",
              "      <td>2283</td>\n",
              "      <td>NaN</td>\n",
              "      <td>7.7</td>\n",
              "      <td>NaN</td>\n",
              "    </tr>\n",
              "    <tr>\n",
              "      <th>5039</th>\n",
              "      <td>NaN</td>\n",
              "      <td>16.00</td>\n",
              "      <td>43.0</td>\n",
              "      <td>43.0</td>\n",
              "      <td>1753</td>\n",
              "      <td>NaN</td>\n",
              "      <td>7.5</td>\n",
              "      <td>NaN</td>\n",
              "    </tr>\n",
              "    <tr>\n",
              "      <th>5040</th>\n",
              "      <td>2013.0</td>\n",
              "      <td>NaN</td>\n",
              "      <td>76.0</td>\n",
              "      <td>76.0</td>\n",
              "      <td>0</td>\n",
              "      <td>1400.0</td>\n",
              "      <td>6.3</td>\n",
              "      <td>NaN</td>\n",
              "    </tr>\n",
              "    <tr>\n",
              "      <th>5041</th>\n",
              "      <td>2012.0</td>\n",
              "      <td>2.35</td>\n",
              "      <td>100.0</td>\n",
              "      <td>100.0</td>\n",
              "      <td>2386</td>\n",
              "      <td>NaN</td>\n",
              "      <td>6.3</td>\n",
              "      <td>10443.0</td>\n",
              "    </tr>\n",
              "    <tr>\n",
              "      <th>5042</th>\n",
              "      <td>2004.0</td>\n",
              "      <td>1.85</td>\n",
              "      <td>90.0</td>\n",
              "      <td>90.0</td>\n",
              "      <td>163</td>\n",
              "      <td>1100.0</td>\n",
              "      <td>6.6</td>\n",
              "      <td>85222.0</td>\n",
              "    </tr>\n",
              "  </tbody>\n",
              "</table>\n",
              "<p>5043 rows × 8 columns</p>\n",
              "</div>"
            ],
            "text/plain": [
              "      title_year  aspect_ratio  duration  ...       budget  imdb_score        gross\n",
              "0         2009.0          1.78     178.0  ...  237000000.0         7.9  760505847.0\n",
              "1         2007.0          2.35     169.0  ...  300000000.0         7.1  309404152.0\n",
              "2         2015.0          2.35     148.0  ...  245000000.0         6.8  200074175.0\n",
              "3         2012.0          2.35     164.0  ...  250000000.0         8.5  448130642.0\n",
              "4            NaN           NaN       NaN  ...          NaN         7.1          NaN\n",
              "...          ...           ...       ...  ...          ...         ...          ...\n",
              "5038      2013.0           NaN      87.0  ...          NaN         7.7          NaN\n",
              "5039         NaN         16.00      43.0  ...          NaN         7.5          NaN\n",
              "5040      2013.0           NaN      76.0  ...       1400.0         6.3          NaN\n",
              "5041      2012.0          2.35     100.0  ...          NaN         6.3      10443.0\n",
              "5042      2004.0          1.85      90.0  ...       1100.0         6.6      85222.0\n",
              "\n",
              "[5043 rows x 8 columns]"
            ]
          },
          "metadata": {
            "tags": []
          },
          "execution_count": 88
        }
      ]
    },
    {
      "cell_type": "code",
      "metadata": {
        "id": "CXv7NdFOMUWV"
      },
      "source": [
        "movies_num = pd.concat([movies_num, movies['movie_title']], axis=1)"
      ],
      "execution_count": 89,
      "outputs": []
    },
    {
      "cell_type": "code",
      "metadata": {
        "id": "T5pW7pxAMsz_"
      },
      "source": [
        "movies_v2 = pd.merge(financials, movies_num, on='movie_title', how='left')"
      ],
      "execution_count": 91,
      "outputs": []
    },
    {
      "cell_type": "code",
      "metadata": {
        "colab": {
          "base_uri": "https://localhost:8080/"
        },
        "id": "WHBXyTnmWQnk",
        "outputId": "e7e3e7ef-3436-47cd-a4ff-5c90f8d67a1c"
      },
      "source": [
        "movies_v2.shape"
      ],
      "execution_count": 93,
      "outputs": [
        {
          "output_type": "execute_result",
          "data": {
            "text/plain": [
              "(4385, 11)"
            ]
          },
          "metadata": {
            "tags": []
          },
          "execution_count": 93
        }
      ]
    },
    {
      "cell_type": "markdown",
      "metadata": {
        "id": "-MkZCIfcfs5F"
      },
      "source": [
        "Ahora vamos a solucionar los datos faltantes (nulos o NaN)"
      ]
    },
    {
      "cell_type": "code",
      "metadata": {
        "colab": {
          "base_uri": "https://localhost:8080/",
          "height": 131
        },
        "id": "ycF8GtIMb3-v",
        "outputId": "cb0286cf-6a0a-46f1-fb57-47e8d17bdcf3"
      },
      "source": [
        "movies_v2.notnull().apply(pd.Series.value_counts)"
      ],
      "execution_count": 95,
      "outputs": [
        {
          "output_type": "execute_result",
          "data": {
            "text/html": [
              "<div>\n",
              "<style scoped>\n",
              "    .dataframe tbody tr th:only-of-type {\n",
              "        vertical-align: middle;\n",
              "    }\n",
              "\n",
              "    .dataframe tbody tr th {\n",
              "        vertical-align: top;\n",
              "    }\n",
              "\n",
              "    .dataframe thead th {\n",
              "        text-align: right;\n",
              "    }\n",
              "</style>\n",
              "<table border=\"1\" class=\"dataframe\">\n",
              "  <thead>\n",
              "    <tr style=\"text-align: right;\">\n",
              "      <th></th>\n",
              "      <th>movie_title</th>\n",
              "      <th>production_budget</th>\n",
              "      <th>worldwide_gross</th>\n",
              "      <th>title_year</th>\n",
              "      <th>aspect_ratio</th>\n",
              "      <th>duration</th>\n",
              "      <th>duration.1</th>\n",
              "      <th>cast_total_facebook_likes</th>\n",
              "      <th>budget</th>\n",
              "      <th>imdb_score</th>\n",
              "      <th>gross</th>\n",
              "    </tr>\n",
              "  </thead>\n",
              "  <tbody>\n",
              "    <tr>\n",
              "      <th>False</th>\n",
              "      <td>NaN</td>\n",
              "      <td>NaN</td>\n",
              "      <td>NaN</td>\n",
              "      <td>27</td>\n",
              "      <td>274</td>\n",
              "      <td>13</td>\n",
              "      <td>13</td>\n",
              "      <td>NaN</td>\n",
              "      <td>335</td>\n",
              "      <td>NaN</td>\n",
              "      <td>671</td>\n",
              "    </tr>\n",
              "    <tr>\n",
              "      <th>True</th>\n",
              "      <td>4385.0</td>\n",
              "      <td>4385.0</td>\n",
              "      <td>4385.0</td>\n",
              "      <td>4358</td>\n",
              "      <td>4111</td>\n",
              "      <td>4372</td>\n",
              "      <td>4372</td>\n",
              "      <td>4385.0</td>\n",
              "      <td>4050</td>\n",
              "      <td>4385.0</td>\n",
              "      <td>3714</td>\n",
              "    </tr>\n",
              "  </tbody>\n",
              "</table>\n",
              "</div>"
            ],
            "text/plain": [
              "       movie_title  production_budget  ...  imdb_score  gross\n",
              "False          NaN                NaN  ...         NaN    671\n",
              "True        4385.0             4385.0  ...      4385.0   3714\n",
              "\n",
              "[2 rows x 11 columns]"
            ]
          },
          "metadata": {
            "tags": []
          },
          "execution_count": 95
        }
      ]
    },
    {
      "cell_type": "code",
      "metadata": {
        "colab": {
          "base_uri": "https://localhost:8080/",
          "height": 131
        },
        "id": "8c4MhXKkf-kb",
        "outputId": "019ea56e-7eb4-479f-8d00-6072a33dab71"
      },
      "source": [
        "(movies_v2 != 0).apply(pd.Series.value_counts)"
      ],
      "execution_count": 96,
      "outputs": [
        {
          "output_type": "execute_result",
          "data": {
            "text/html": [
              "<div>\n",
              "<style scoped>\n",
              "    .dataframe tbody tr th:only-of-type {\n",
              "        vertical-align: middle;\n",
              "    }\n",
              "\n",
              "    .dataframe tbody tr th {\n",
              "        vertical-align: top;\n",
              "    }\n",
              "\n",
              "    .dataframe thead th {\n",
              "        text-align: right;\n",
              "    }\n",
              "</style>\n",
              "<table border=\"1\" class=\"dataframe\">\n",
              "  <thead>\n",
              "    <tr style=\"text-align: right;\">\n",
              "      <th></th>\n",
              "      <th>movie_title</th>\n",
              "      <th>production_budget</th>\n",
              "      <th>worldwide_gross</th>\n",
              "      <th>title_year</th>\n",
              "      <th>aspect_ratio</th>\n",
              "      <th>duration</th>\n",
              "      <th>duration.1</th>\n",
              "      <th>cast_total_facebook_likes</th>\n",
              "      <th>budget</th>\n",
              "      <th>imdb_score</th>\n",
              "      <th>gross</th>\n",
              "    </tr>\n",
              "  </thead>\n",
              "  <tbody>\n",
              "    <tr>\n",
              "      <th>False</th>\n",
              "      <td>NaN</td>\n",
              "      <td>NaN</td>\n",
              "      <td>281</td>\n",
              "      <td>NaN</td>\n",
              "      <td>NaN</td>\n",
              "      <td>NaN</td>\n",
              "      <td>NaN</td>\n",
              "      <td>27</td>\n",
              "      <td>NaN</td>\n",
              "      <td>NaN</td>\n",
              "      <td>NaN</td>\n",
              "    </tr>\n",
              "    <tr>\n",
              "      <th>True</th>\n",
              "      <td>4385.0</td>\n",
              "      <td>4385.0</td>\n",
              "      <td>4104</td>\n",
              "      <td>4385.0</td>\n",
              "      <td>4385.0</td>\n",
              "      <td>4385.0</td>\n",
              "      <td>4385.0</td>\n",
              "      <td>4358</td>\n",
              "      <td>4385.0</td>\n",
              "      <td>4385.0</td>\n",
              "      <td>4385.0</td>\n",
              "    </tr>\n",
              "  </tbody>\n",
              "</table>\n",
              "</div>"
            ],
            "text/plain": [
              "       movie_title  production_budget  ...  imdb_score   gross\n",
              "False          NaN                NaN  ...         NaN     NaN\n",
              "True        4385.0             4385.0  ...      4385.0  4385.0\n",
              "\n",
              "[2 rows x 11 columns]"
            ]
          },
          "metadata": {
            "tags": []
          },
          "execution_count": 96
        }
      ]
    },
    {
      "cell_type": "code",
      "metadata": {
        "colab": {
          "base_uri": "https://localhost:8080/",
          "height": 439
        },
        "id": "ZC418QsKg58F",
        "outputId": "123c55fa-bf8a-4a2a-df73-a9a8bc01a3e7"
      },
      "source": [
        "available = ((movies_v2 != 0) & (movies_v2.notnull()))\n",
        "available"
      ],
      "execution_count": 98,
      "outputs": [
        {
          "output_type": "execute_result",
          "data": {
            "text/html": [
              "<div>\n",
              "<style scoped>\n",
              "    .dataframe tbody tr th:only-of-type {\n",
              "        vertical-align: middle;\n",
              "    }\n",
              "\n",
              "    .dataframe tbody tr th {\n",
              "        vertical-align: top;\n",
              "    }\n",
              "\n",
              "    .dataframe thead th {\n",
              "        text-align: right;\n",
              "    }\n",
              "</style>\n",
              "<table border=\"1\" class=\"dataframe\">\n",
              "  <thead>\n",
              "    <tr style=\"text-align: right;\">\n",
              "      <th></th>\n",
              "      <th>movie_title</th>\n",
              "      <th>production_budget</th>\n",
              "      <th>worldwide_gross</th>\n",
              "      <th>title_year</th>\n",
              "      <th>aspect_ratio</th>\n",
              "      <th>duration</th>\n",
              "      <th>duration.1</th>\n",
              "      <th>cast_total_facebook_likes</th>\n",
              "      <th>budget</th>\n",
              "      <th>imdb_score</th>\n",
              "      <th>gross</th>\n",
              "    </tr>\n",
              "  </thead>\n",
              "  <tbody>\n",
              "    <tr>\n",
              "      <th>0</th>\n",
              "      <td>True</td>\n",
              "      <td>True</td>\n",
              "      <td>True</td>\n",
              "      <td>True</td>\n",
              "      <td>True</td>\n",
              "      <td>True</td>\n",
              "      <td>True</td>\n",
              "      <td>True</td>\n",
              "      <td>True</td>\n",
              "      <td>True</td>\n",
              "      <td>True</td>\n",
              "    </tr>\n",
              "    <tr>\n",
              "      <th>1</th>\n",
              "      <td>True</td>\n",
              "      <td>True</td>\n",
              "      <td>True</td>\n",
              "      <td>False</td>\n",
              "      <td>False</td>\n",
              "      <td>False</td>\n",
              "      <td>False</td>\n",
              "      <td>True</td>\n",
              "      <td>False</td>\n",
              "      <td>True</td>\n",
              "      <td>False</td>\n",
              "    </tr>\n",
              "    <tr>\n",
              "      <th>2</th>\n",
              "      <td>True</td>\n",
              "      <td>True</td>\n",
              "      <td>True</td>\n",
              "      <td>True</td>\n",
              "      <td>True</td>\n",
              "      <td>True</td>\n",
              "      <td>True</td>\n",
              "      <td>True</td>\n",
              "      <td>True</td>\n",
              "      <td>True</td>\n",
              "      <td>True</td>\n",
              "    </tr>\n",
              "    <tr>\n",
              "      <th>3</th>\n",
              "      <td>True</td>\n",
              "      <td>True</td>\n",
              "      <td>True</td>\n",
              "      <td>True</td>\n",
              "      <td>True</td>\n",
              "      <td>True</td>\n",
              "      <td>True</td>\n",
              "      <td>True</td>\n",
              "      <td>True</td>\n",
              "      <td>True</td>\n",
              "      <td>True</td>\n",
              "    </tr>\n",
              "    <tr>\n",
              "      <th>4</th>\n",
              "      <td>True</td>\n",
              "      <td>True</td>\n",
              "      <td>True</td>\n",
              "      <td>True</td>\n",
              "      <td>True</td>\n",
              "      <td>True</td>\n",
              "      <td>True</td>\n",
              "      <td>True</td>\n",
              "      <td>True</td>\n",
              "      <td>True</td>\n",
              "      <td>True</td>\n",
              "    </tr>\n",
              "    <tr>\n",
              "      <th>...</th>\n",
              "      <td>...</td>\n",
              "      <td>...</td>\n",
              "      <td>...</td>\n",
              "      <td>...</td>\n",
              "      <td>...</td>\n",
              "      <td>...</td>\n",
              "      <td>...</td>\n",
              "      <td>...</td>\n",
              "      <td>...</td>\n",
              "      <td>...</td>\n",
              "      <td>...</td>\n",
              "    </tr>\n",
              "    <tr>\n",
              "      <th>4380</th>\n",
              "      <td>True</td>\n",
              "      <td>True</td>\n",
              "      <td>True</td>\n",
              "      <td>True</td>\n",
              "      <td>False</td>\n",
              "      <td>True</td>\n",
              "      <td>True</td>\n",
              "      <td>True</td>\n",
              "      <td>True</td>\n",
              "      <td>True</td>\n",
              "      <td>False</td>\n",
              "    </tr>\n",
              "    <tr>\n",
              "      <th>4381</th>\n",
              "      <td>True</td>\n",
              "      <td>True</td>\n",
              "      <td>False</td>\n",
              "      <td>True</td>\n",
              "      <td>False</td>\n",
              "      <td>True</td>\n",
              "      <td>True</td>\n",
              "      <td>True</td>\n",
              "      <td>False</td>\n",
              "      <td>True</td>\n",
              "      <td>False</td>\n",
              "    </tr>\n",
              "    <tr>\n",
              "      <th>4382</th>\n",
              "      <td>True</td>\n",
              "      <td>True</td>\n",
              "      <td>True</td>\n",
              "      <td>True</td>\n",
              "      <td>True</td>\n",
              "      <td>True</td>\n",
              "      <td>True</td>\n",
              "      <td>True</td>\n",
              "      <td>False</td>\n",
              "      <td>True</td>\n",
              "      <td>True</td>\n",
              "    </tr>\n",
              "    <tr>\n",
              "      <th>4383</th>\n",
              "      <td>True</td>\n",
              "      <td>True</td>\n",
              "      <td>False</td>\n",
              "      <td>True</td>\n",
              "      <td>False</td>\n",
              "      <td>True</td>\n",
              "      <td>True</td>\n",
              "      <td>False</td>\n",
              "      <td>True</td>\n",
              "      <td>True</td>\n",
              "      <td>False</td>\n",
              "    </tr>\n",
              "    <tr>\n",
              "      <th>4384</th>\n",
              "      <td>True</td>\n",
              "      <td>True</td>\n",
              "      <td>True</td>\n",
              "      <td>True</td>\n",
              "      <td>True</td>\n",
              "      <td>True</td>\n",
              "      <td>True</td>\n",
              "      <td>True</td>\n",
              "      <td>True</td>\n",
              "      <td>True</td>\n",
              "      <td>True</td>\n",
              "    </tr>\n",
              "  </tbody>\n",
              "</table>\n",
              "<p>4385 rows × 11 columns</p>\n",
              "</div>"
            ],
            "text/plain": [
              "      movie_title  production_budget  ...  imdb_score  gross\n",
              "0            True               True  ...        True   True\n",
              "1            True               True  ...        True  False\n",
              "2            True               True  ...        True   True\n",
              "3            True               True  ...        True   True\n",
              "4            True               True  ...        True   True\n",
              "...           ...                ...  ...         ...    ...\n",
              "4380         True               True  ...        True  False\n",
              "4381         True               True  ...        True  False\n",
              "4382         True               True  ...        True   True\n",
              "4383         True               True  ...        True  False\n",
              "4384         True               True  ...        True   True\n",
              "\n",
              "[4385 rows x 11 columns]"
            ]
          },
          "metadata": {
            "tags": []
          },
          "execution_count": 98
        }
      ]
    },
    {
      "cell_type": "code",
      "metadata": {
        "colab": {
          "base_uri": "https://localhost:8080/"
        },
        "id": "dalNiZN9iFoa",
        "outputId": "5580d5ab-1835-4c2b-9c8d-d42dc00d902c"
      },
      "source": [
        "available.all(axis=1).value_counts()"
      ],
      "execution_count": 100,
      "outputs": [
        {
          "output_type": "execute_result",
          "data": {
            "text/plain": [
              "True     3408\n",
              "False     977\n",
              "dtype: int64"
            ]
          },
          "metadata": {
            "tags": []
          },
          "execution_count": 100
        }
      ]
    },
    {
      "cell_type": "code",
      "metadata": {
        "id": "OXnJ0tU-i3KH"
      },
      "source": [
        "mask2 = available['worldwide_gross']"
      ],
      "execution_count": 102,
      "outputs": []
    },
    {
      "cell_type": "code",
      "metadata": {
        "id": "ZZvbwjv8jRYs"
      },
      "source": [
        "movies_v2 = movies_v2[mask2]"
      ],
      "execution_count": 104,
      "outputs": []
    },
    {
      "cell_type": "code",
      "metadata": {
        "colab": {
          "base_uri": "https://localhost:8080/"
        },
        "id": "WJMyACzujbO-",
        "outputId": "982b90e0-aafc-4d62-8c10-8304bf9dd4d0"
      },
      "source": [
        "((movies_v2 != 0) & (movies_v2.notnull())).worldwide_gross.value_counts()"
      ],
      "execution_count": 105,
      "outputs": [
        {
          "output_type": "execute_result",
          "data": {
            "text/plain": [
              "True    4104\n",
              "Name: worldwide_gross, dtype: int64"
            ]
          },
          "metadata": {
            "tags": []
          },
          "execution_count": 105
        }
      ]
    },
    {
      "cell_type": "code",
      "metadata": {
        "id": "JD_lumtvkQhG"
      },
      "source": [
        "from sklearn.impute import SimpleImputer\n",
        "imputer = SimpleImputer(missing_values=np.nan, strategy='mean')\n"
      ],
      "execution_count": 110,
      "outputs": []
    },
    {
      "cell_type": "code",
      "metadata": {
        "id": "8QdFJYUjluFu"
      },
      "source": [
        "movies_v2 = movies_v2.drop('movie_title', axis=1)"
      ],
      "execution_count": 113,
      "outputs": []
    },
    {
      "cell_type": "code",
      "metadata": {
        "colab": {
          "base_uri": "https://localhost:8080/",
          "height": 224
        },
        "id": "M4oehnBxmqgl",
        "outputId": "0fc4b575-7d1a-48d2-d2d3-bd16428f50ae"
      },
      "source": [
        "movies_v2.head()"
      ],
      "execution_count": 117,
      "outputs": [
        {
          "output_type": "execute_result",
          "data": {
            "text/html": [
              "<div>\n",
              "<style scoped>\n",
              "    .dataframe tbody tr th:only-of-type {\n",
              "        vertical-align: middle;\n",
              "    }\n",
              "\n",
              "    .dataframe tbody tr th {\n",
              "        vertical-align: top;\n",
              "    }\n",
              "\n",
              "    .dataframe thead th {\n",
              "        text-align: right;\n",
              "    }\n",
              "</style>\n",
              "<table border=\"1\" class=\"dataframe\">\n",
              "  <thead>\n",
              "    <tr style=\"text-align: right;\">\n",
              "      <th></th>\n",
              "      <th>production_budget</th>\n",
              "      <th>worldwide_gross</th>\n",
              "      <th>title_year</th>\n",
              "      <th>aspect_ratio</th>\n",
              "      <th>duration.1</th>\n",
              "      <th>cast_total_facebook_likes</th>\n",
              "      <th>budget</th>\n",
              "      <th>imdb_score</th>\n",
              "      <th>gross</th>\n",
              "    </tr>\n",
              "  </thead>\n",
              "  <tbody>\n",
              "    <tr>\n",
              "      <th>0</th>\n",
              "      <td>425000000</td>\n",
              "      <td>2783918982</td>\n",
              "      <td>2009.0</td>\n",
              "      <td>1.78</td>\n",
              "      <td>178.0</td>\n",
              "      <td>4834</td>\n",
              "      <td>237000000.0</td>\n",
              "      <td>7.9</td>\n",
              "      <td>760505847.0</td>\n",
              "    </tr>\n",
              "    <tr>\n",
              "      <th>1</th>\n",
              "      <td>306000000</td>\n",
              "      <td>2058662225</td>\n",
              "      <td>NaN</td>\n",
              "      <td>NaN</td>\n",
              "      <td>NaN</td>\n",
              "      <td>143</td>\n",
              "      <td>NaN</td>\n",
              "      <td>7.1</td>\n",
              "      <td>NaN</td>\n",
              "    </tr>\n",
              "    <tr>\n",
              "      <th>2</th>\n",
              "      <td>300000000</td>\n",
              "      <td>963420425</td>\n",
              "      <td>2007.0</td>\n",
              "      <td>2.35</td>\n",
              "      <td>169.0</td>\n",
              "      <td>48350</td>\n",
              "      <td>300000000.0</td>\n",
              "      <td>7.1</td>\n",
              "      <td>309404152.0</td>\n",
              "    </tr>\n",
              "    <tr>\n",
              "      <th>3</th>\n",
              "      <td>300000000</td>\n",
              "      <td>879620923</td>\n",
              "      <td>2015.0</td>\n",
              "      <td>2.35</td>\n",
              "      <td>148.0</td>\n",
              "      <td>11700</td>\n",
              "      <td>245000000.0</td>\n",
              "      <td>6.8</td>\n",
              "      <td>200074175.0</td>\n",
              "    </tr>\n",
              "    <tr>\n",
              "      <th>4</th>\n",
              "      <td>275000000</td>\n",
              "      <td>1084439099</td>\n",
              "      <td>2012.0</td>\n",
              "      <td>2.35</td>\n",
              "      <td>164.0</td>\n",
              "      <td>106759</td>\n",
              "      <td>250000000.0</td>\n",
              "      <td>8.5</td>\n",
              "      <td>448130642.0</td>\n",
              "    </tr>\n",
              "  </tbody>\n",
              "</table>\n",
              "</div>"
            ],
            "text/plain": [
              "   production_budget  worldwide_gross  ...  imdb_score        gross\n",
              "0          425000000       2783918982  ...         7.9  760505847.0\n",
              "1          306000000       2058662225  ...         7.1          NaN\n",
              "2          300000000        963420425  ...         7.1  309404152.0\n",
              "3          300000000        879620923  ...         6.8  200074175.0\n",
              "4          275000000       1084439099  ...         8.5  448130642.0\n",
              "\n",
              "[5 rows x 9 columns]"
            ]
          },
          "metadata": {
            "tags": []
          },
          "execution_count": 117
        }
      ]
    },
    {
      "cell_type": "code",
      "metadata": {
        "id": "HHvG8cAjkx7P"
      },
      "source": [
        "values = imputer.fit_transform(movies_v2)"
      ],
      "execution_count": 118,
      "outputs": []
    },
    {
      "cell_type": "code",
      "metadata": {
        "colab": {
          "base_uri": "https://localhost:8080/"
        },
        "id": "jmc6wl-um0nV",
        "outputId": "d137427a-3c0c-4225-c6d2-b0233392210a"
      },
      "source": [
        "values"
      ],
      "execution_count": 119,
      "outputs": [
        {
          "output_type": "execute_result",
          "data": {
            "text/plain": [
              "array([[4.25000000e+08, 2.78391898e+09, 2.00900000e+03, ...,\n",
              "        2.37000000e+08, 7.90000000e+00, 7.60505847e+08],\n",
              "       [3.06000000e+08, 2.05866222e+09, 2.00213073e+03, ...,\n",
              "        4.04553863e+07, 7.10000000e+00, 4.83193329e+07],\n",
              "       [3.00000000e+08, 9.63420425e+08, 2.00700000e+03, ...,\n",
              "        3.00000000e+08, 7.10000000e+00, 3.09404152e+08],\n",
              "       ...,\n",
              "       [7.00000000e+03, 9.00000000e+02, 2.00500000e+03, ...,\n",
              "        3.25000000e+03, 7.80000000e+00, 4.83193329e+07],\n",
              "       [3.96700000e+03, 1.04430000e+04, 2.01200000e+03, ...,\n",
              "        4.04553863e+07, 6.30000000e+00, 1.04430000e+04],\n",
              "       [1.10000000e+03, 1.81041000e+05, 2.00400000e+03, ...,\n",
              "        1.10000000e+03, 6.60000000e+00, 8.52220000e+04]])"
            ]
          },
          "metadata": {
            "tags": []
          },
          "execution_count": 119
        }
      ]
    },
    {
      "cell_type": "code",
      "metadata": {
        "id": "R7WNxUotm9hD"
      },
      "source": [
        "X = pd.DataFrame(values)"
      ],
      "execution_count": 120,
      "outputs": []
    },
    {
      "cell_type": "code",
      "metadata": {
        "id": "pNGgN8_GnNbi"
      },
      "source": [
        "X.columns = movies_v2.columns"
      ],
      "execution_count": 122,
      "outputs": []
    },
    {
      "cell_type": "code",
      "metadata": {
        "id": "JHLykLIRnSkF"
      },
      "source": [
        "X.index = movies_v2.index"
      ],
      "execution_count": 124,
      "outputs": []
    },
    {
      "cell_type": "code",
      "metadata": {
        "colab": {
          "base_uri": "https://localhost:8080/",
          "height": 224
        },
        "id": "EZvSCFQznZq4",
        "outputId": "004d33fc-e383-4d83-c309-093dcae1efb9"
      },
      "source": [
        "X.head()"
      ],
      "execution_count": 125,
      "outputs": [
        {
          "output_type": "execute_result",
          "data": {
            "text/html": [
              "<div>\n",
              "<style scoped>\n",
              "    .dataframe tbody tr th:only-of-type {\n",
              "        vertical-align: middle;\n",
              "    }\n",
              "\n",
              "    .dataframe tbody tr th {\n",
              "        vertical-align: top;\n",
              "    }\n",
              "\n",
              "    .dataframe thead th {\n",
              "        text-align: right;\n",
              "    }\n",
              "</style>\n",
              "<table border=\"1\" class=\"dataframe\">\n",
              "  <thead>\n",
              "    <tr style=\"text-align: right;\">\n",
              "      <th></th>\n",
              "      <th>production_budget</th>\n",
              "      <th>worldwide_gross</th>\n",
              "      <th>title_year</th>\n",
              "      <th>aspect_ratio</th>\n",
              "      <th>duration.1</th>\n",
              "      <th>cast_total_facebook_likes</th>\n",
              "      <th>budget</th>\n",
              "      <th>imdb_score</th>\n",
              "      <th>gross</th>\n",
              "    </tr>\n",
              "  </thead>\n",
              "  <tbody>\n",
              "    <tr>\n",
              "      <th>0</th>\n",
              "      <td>425000000.0</td>\n",
              "      <td>2.783919e+09</td>\n",
              "      <td>2009.000000</td>\n",
              "      <td>1.780000</td>\n",
              "      <td>178.000000</td>\n",
              "      <td>4834.0</td>\n",
              "      <td>2.370000e+08</td>\n",
              "      <td>7.9</td>\n",
              "      <td>7.605058e+08</td>\n",
              "    </tr>\n",
              "    <tr>\n",
              "      <th>1</th>\n",
              "      <td>306000000.0</td>\n",
              "      <td>2.058662e+09</td>\n",
              "      <td>2002.130733</td>\n",
              "      <td>2.126976</td>\n",
              "      <td>108.577186</td>\n",
              "      <td>143.0</td>\n",
              "      <td>4.045539e+07</td>\n",
              "      <td>7.1</td>\n",
              "      <td>4.831933e+07</td>\n",
              "    </tr>\n",
              "    <tr>\n",
              "      <th>2</th>\n",
              "      <td>300000000.0</td>\n",
              "      <td>9.634204e+08</td>\n",
              "      <td>2007.000000</td>\n",
              "      <td>2.350000</td>\n",
              "      <td>169.000000</td>\n",
              "      <td>48350.0</td>\n",
              "      <td>3.000000e+08</td>\n",
              "      <td>7.1</td>\n",
              "      <td>3.094042e+08</td>\n",
              "    </tr>\n",
              "    <tr>\n",
              "      <th>3</th>\n",
              "      <td>300000000.0</td>\n",
              "      <td>8.796209e+08</td>\n",
              "      <td>2015.000000</td>\n",
              "      <td>2.350000</td>\n",
              "      <td>148.000000</td>\n",
              "      <td>11700.0</td>\n",
              "      <td>2.450000e+08</td>\n",
              "      <td>6.8</td>\n",
              "      <td>2.000742e+08</td>\n",
              "    </tr>\n",
              "    <tr>\n",
              "      <th>4</th>\n",
              "      <td>275000000.0</td>\n",
              "      <td>1.084439e+09</td>\n",
              "      <td>2012.000000</td>\n",
              "      <td>2.350000</td>\n",
              "      <td>164.000000</td>\n",
              "      <td>106759.0</td>\n",
              "      <td>2.500000e+08</td>\n",
              "      <td>8.5</td>\n",
              "      <td>4.481306e+08</td>\n",
              "    </tr>\n",
              "  </tbody>\n",
              "</table>\n",
              "</div>"
            ],
            "text/plain": [
              "   production_budget  worldwide_gross  ...  imdb_score         gross\n",
              "0        425000000.0     2.783919e+09  ...         7.9  7.605058e+08\n",
              "1        306000000.0     2.058662e+09  ...         7.1  4.831933e+07\n",
              "2        300000000.0     9.634204e+08  ...         7.1  3.094042e+08\n",
              "3        300000000.0     8.796209e+08  ...         6.8  2.000742e+08\n",
              "4        275000000.0     1.084439e+09  ...         8.5  4.481306e+08\n",
              "\n",
              "[5 rows x 9 columns]"
            ]
          },
          "metadata": {
            "tags": []
          },
          "execution_count": 125
        }
      ]
    },
    {
      "cell_type": "code",
      "metadata": {
        "id": "K000EqOCneIl"
      },
      "source": [
        "X.to_csv('/content/X.csv', index=False)"
      ],
      "execution_count": 126,
      "outputs": []
    },
    {
      "cell_type": "code",
      "metadata": {
        "id": "TP_j2FTOqjVr"
      },
      "source": [
        ""
      ],
      "execution_count": null,
      "outputs": []
    }
  ]
}